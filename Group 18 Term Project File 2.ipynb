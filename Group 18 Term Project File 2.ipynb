{
 "cells": [
  {
   "cell_type": "markdown",
   "metadata": {},
   "source": [
    "<h1><center> <font color='blue'>Problem 2:Cantilever Beam Subjected to Uniformly Varying Load</font> </center></h1>"
   ]
  },
  {
   "attachments": {
    "problem%202%20final.png": {
     "image/png": "[encoded data removed]"
    }
   },
   "cell_type": "markdown",
   "metadata": {},
   "source": [
    " <font color='green'>Problem Statement:</font> We have taken a Cantilever Beam with $length = L$, $height = d$ and  $unit$ $width$  is taken subjected to uniformly varing load of intensity $Q$ $N/m$ all over the span of beam from 0 at free end to Q at fixed end as shown in figure below. The cente of the axes is taken at free end of the beam on upper face of beam with positive $x$ axis pointing towards fixed end and positive $y$ axis directing towards upward.\n",
    " \n",
    "![problem%202%20final.png](attachment:problem%202%20final.png)"
   ]
  },
  {
   "cell_type": "code",
   "execution_count": 1,
   "metadata": {},
   "outputs": [],
   "source": [
    "import sympy as sym\n",
    "from IPython.display import Math, Latex"
   ]
  },
  {
   "cell_type": "code",
   "execution_count": 2,
   "metadata": {},
   "outputs": [],
   "source": [
    "x,y = sym.symbols('x,y')"
   ]
  },
  {
   "cell_type": "code",
   "execution_count": 3,
   "metadata": {},
   "outputs": [
    {
     "data": {
      "text/latex": [
       "$\\displaystyle \\phi_2=A_{02} y^{2} + A_{11} x y + A_{20} x^{2}$"
      ],
      "text/plain": [
       "<IPython.core.display.Math object>"
      ]
     },
     "metadata": {},
     "output_type": "display_data"
    }
   ],
   "source": [
    "A20, A11, A02 = sym.symbols('A_20,A_11,A_02')\n",
    "airy2 = A20*x**2+A11*x*y+A02*y**2\n",
    "\n",
    "display(Math(r'\\phi_2={}'.format(sym.latex(airy2))))"
   ]
  },
  {
   "cell_type": "code",
   "execution_count": 4,
   "metadata": {},
   "outputs": [
    {
     "data": {
      "text/latex": [
       "$\\displaystyle \\phi_3=A_{03} y^{3} + A_{12} x y^{2} + A_{21} x^{2} y + A_{30} x^{3}$"
      ],
      "text/plain": [
       "<IPython.core.display.Math object>"
      ]
     },
     "metadata": {},
     "output_type": "display_data"
    }
   ],
   "source": [
    "A30, A21, A12, A03 = sym.symbols('A_30, A_21, A_12, A_03')\n",
    "airy3 = A30*x**3+A21*x**2*y+A12*x*y**2+A03*y**3\n",
    "\n",
    "display(Math(r'\\phi_3={}'.format(sym.latex(airy3))))"
   ]
  },
  {
   "cell_type": "code",
   "execution_count": 5,
   "metadata": {},
   "outputs": [
    {
     "data": {
      "text/latex": [
       "$\\displaystyle \\phi_4=A_{04} y^{4} + A_{13} x y^{3} + A_{22} x^{2} y^{2} + A_{31} x^{3} y + A_{40} x^{4}$"
      ],
      "text/plain": [
       "<IPython.core.display.Math object>"
      ]
     },
     "metadata": {},
     "output_type": "display_data"
    }
   ],
   "source": [
    "A40, A31, A22, A13, A04 = sym.symbols('A_40, A_31, A_22, A_13, A_04')\n",
    "airy4 = A40*x**4+A31*x**3*y+A22*x**2*y**2+A13*x*y**3+A04*y**4\n",
    "\n",
    "display(Math(r'\\phi_4={}'.format(sym.latex(airy4))))"
   ]
  },
  {
   "cell_type": "code",
   "execution_count": 6,
   "metadata": {},
   "outputs": [
    {
     "data": {
      "text/latex": [
       "$\\displaystyle \\phi_5=A_{05} y^{5} + A_{14} x y^{4} + A_{23} x^{2} y^{3} + A_{32} x^{3} y^{2} + A_{41} x^{4} y + A_{50} x^{5}$"
      ],
      "text/plain": [
       "<IPython.core.display.Math object>"
      ]
     },
     "metadata": {},
     "output_type": "display_data"
    }
   ],
   "source": [
    "A50, A41, A32, A23, A14, A05 = sym.symbols('A_50, A_41, A_32, A_23, A_14, A_05')\n",
    "airy5 = A50*x**5+A41*x**4*y+A32*x**3*y**2+A23*x**2*y**3+A14*x*y**4+A05*y**5\n",
    "\n",
    "display(Math(r'\\phi_5={}'.format(sym.latex(airy5))))"
   ]
  },
  {
   "cell_type": "code",
   "execution_count": 7,
   "metadata": {},
   "outputs": [
    {
     "data": {
      "text/latex": [
       "$\\displaystyle \\phi=A_{02} y^{2} + A_{03} y^{3} + A_{04} y^{4} + A_{05} y^{5} + A_{11} x y + A_{12} x y^{2} + A_{13} x y^{3} + A_{14} x y^{4} + A_{20} x^{2} + A_{21} x^{2} y + A_{22} x^{2} y^{2} + A_{23} x^{2} y^{3} + A_{30} x^{3} + A_{31} x^{3} y + A_{32} x^{3} y^{2} + A_{40} x^{4} + A_{41} x^{4} y + A_{50} x^{5}$"
      ],
      "text/plain": [
       "<IPython.core.display.Math object>"
      ]
     },
     "metadata": {},
     "output_type": "display_data"
    }
   ],
   "source": [
    "phi = (airy2+airy3+airy4+airy5)\n",
    "\n",
    "display(Math(r'\\phi={}'.format(sym.latex(phi))))"
   ]
  },
  {
   "cell_type": "code",
   "execution_count": 8,
   "metadata": {},
   "outputs": [
    {
     "data": {
      "text/latex": [
       "$\\displaystyle \\nabla^4\\phi=24 A_{04} + 120 A_{05} y + 24 A_{14} x + 8 A_{22} + 24 A_{23} y + 24 A_{32} x + 24 A_{40} + 24 A_{41} y + 120 A_{50} x$"
      ],
      "text/plain": [
       "<IPython.core.display.Math object>"
      ]
     },
     "metadata": {},
     "output_type": "display_data"
    }
   ],
   "source": [
    "biharm = (sym.diff(phi,(x,4))+2*sym.diff(phi,x,x,y,y)+sym.diff(phi,(y,4))).expand()\n",
    "\n",
    "display(Math(r'\\nabla^4\\phi={}'.format(sym.latex(biharm))))"
   ]
  },
  {
   "cell_type": "code",
   "execution_count": 9,
   "metadata": {},
   "outputs": [
    {
     "data": {
      "text/latex": [
       "$\\displaystyle 24 A_{14} + 24 A_{32} + 120 A_{50} = 0$"
      ],
      "text/plain": [
       "Eq(24*A_14 + 24*A_32 + 120*A_50, 0)"
      ]
     },
     "metadata": {},
     "output_type": "display_data"
    }
   ],
   "source": [
    "biharm_x = biharm.coeff(x)\n",
    "cond1 = sym.Eq(biharm_x,0)\n",
    "\n",
    "display(cond1)"
   ]
  },
  {
   "cell_type": "code",
   "execution_count": 10,
   "metadata": {},
   "outputs": [
    {
     "data": {
      "text/latex": [
       "$\\displaystyle 120 A_{05} + 24 A_{23} + 24 A_{41} = 0$"
      ],
      "text/plain": [
       "Eq(120*A_05 + 24*A_23 + 24*A_41, 0)"
      ]
     },
     "metadata": {},
     "output_type": "display_data"
    }
   ],
   "source": [
    "biharm_y = biharm.coeff(y)\n",
    "cond2 = sym.Eq(biharm_y,0)\n",
    "\n",
    "display(cond2)"
   ]
  },
  {
   "cell_type": "code",
   "execution_count": 11,
   "metadata": {},
   "outputs": [
    {
     "data": {
      "text/latex": [
       "$\\displaystyle 24 A_{04} + 8 A_{22} + 24 A_{40} = 0$"
      ],
      "text/plain": [
       "Eq(24*A_04 + 8*A_22 + 24*A_40, 0)"
      ]
     },
     "metadata": {},
     "output_type": "display_data"
    }
   ],
   "source": [
    "biharm_0 = biharm.subs([(x,0),(y,0)])\n",
    "cond3 = sym.Eq(biharm_0,0)\n",
    "\n",
    "display(cond3)"
   ]
  },
  {
   "cell_type": "code",
   "execution_count": 12,
   "metadata": {},
   "outputs": [
    {
     "data": {
      "text/latex": [
       "$\\displaystyle \\sigma_{xx}=2 A_{02} + 6 A_{03} y + 12 A_{04} y^{2} + 20 A_{05} y^{3} + 2 A_{12} x + 6 A_{13} x y + 12 A_{14} x y^{2} + 2 A_{22} x^{2} + 6 A_{23} x^{2} y + 2 A_{32} x^{3}$"
      ],
      "text/plain": [
       "<IPython.core.display.Math object>"
      ]
     },
     "metadata": {},
     "output_type": "display_data"
    },
    {
     "data": {
      "text/latex": [
       "$\\displaystyle \\sigma_{yy}=2 A_{20} + 2 A_{21} y + 2 A_{22} y^{2} + 2 A_{23} y^{3} + 6 A_{30} x + 6 A_{31} x y + 6 A_{32} x y^{2} + 12 A_{40} x^{2} + 12 A_{41} x^{2} y + 20 A_{50} x^{3}$"
      ],
      "text/plain": [
       "<IPython.core.display.Math object>"
      ]
     },
     "metadata": {},
     "output_type": "display_data"
    },
    {
     "data": {
      "text/latex": [
       "$\\displaystyle \\sigma_{xy}=- A_{11} - 2 A_{12} y - 3 A_{13} y^{2} - 4 A_{14} y^{3} - 2 A_{21} x - 4 A_{22} x y - 6 A_{23} x y^{2} - 3 A_{31} x^{2} - 6 A_{32} x^{2} y - 4 A_{41} x^{3}$"
      ],
      "text/plain": [
       "<IPython.core.display.Math object>"
      ]
     },
     "metadata": {},
     "output_type": "display_data"
    }
   ],
   "source": [
    "sigmaxx=sym.symbols('sigma_xx')\n",
    "sigmayy=sym.symbols('sigma_yy')\n",
    "sigmaxy=sym.symbols('sigma_xy')\n",
    "\n",
    "sigmaxx = sym.diff(phi,(y,2)).expand()\n",
    "sigmayy = sym.diff(phi,(x,2)).expand()\n",
    "sigmaxy = -sym.diff(phi,x,y).expand()\n",
    "\n",
    "display(Math(r'\\sigma_{{xx}}={}'.format(sym.latex(sigmaxx))))\n",
    "display(Math(r'\\sigma_{{yy}}={}'.format(sym.latex(sigmayy))))\n",
    "display(Math(r'\\sigma_{{xy}}={}'.format(sym.latex(sigmaxy))))"
   ]
  },
  {
   "cell_type": "code",
   "execution_count": 13,
   "metadata": {},
   "outputs": [],
   "source": [
    "d,L = sym.symbols('d,L', positive=True)\n",
    "Q = sym.symbols('Q', positive=True)"
   ]
  },
  {
   "cell_type": "markdown",
   "metadata": {},
   "source": [
    "\n",
    "<font color='green'> Now we apply conditions: at $y=-d$ ,$\\sigma_{yy} = 0$ and $\\sigma_{xy} = 0$ </font>"
   ]
  },
  {
   "cell_type": "code",
   "execution_count": 14,
   "metadata": {},
   "outputs": [
    {
     "data": {
      "text/latex": [
       "$\\displaystyle t1=2 A_{20} - 2 A_{21} d + 2 A_{22} d^{2} - 2 A_{23} d^{3} + 6 A_{30} x - 6 A_{31} d x + 6 A_{32} d^{2} x + 12 A_{40} x^{2} - 12 A_{41} d x^{2} + 20 A_{50} x^{3}$"
      ],
      "text/plain": [
       "<IPython.core.display.Math object>"
      ]
     },
     "metadata": {},
     "output_type": "display_data"
    },
    {
     "data": {
      "text/latex": [
       "$\\displaystyle t2=- A_{11} + 2 A_{12} d - 3 A_{13} d^{2} + 4 A_{14} d^{3} - 2 A_{21} x + 4 A_{22} d x - 6 A_{23} d^{2} x - 3 A_{31} x^{2} + 6 A_{32} d x^{2} - 4 A_{41} x^{3}$"
      ],
      "text/plain": [
       "<IPython.core.display.Math object>"
      ]
     },
     "metadata": {},
     "output_type": "display_data"
    }
   ],
   "source": [
    "t1 = sigmayy.subs(y,-d)\n",
    "t2 = sigmaxy.subs(y,-d)\n",
    "\n",
    "display(Math(r'$t1={}$'.format(sym.latex(t1))))\n",
    "display(Math(r'$t2={}$'.format(sym.latex(t2))))"
   ]
  },
  {
   "cell_type": "code",
   "execution_count": 15,
   "metadata": {},
   "outputs": [
    {
     "data": {
      "text/latex": [
       "$\\displaystyle 6 A_{30} - 6 A_{31} d + 6 A_{32} d^{2} = 0$"
      ],
      "text/plain": [
       "Eq(6*A_30 - 6*A_31*d + 6*A_32*d**2, 0)"
      ]
     },
     "metadata": {},
     "output_type": "display_data"
    },
    {
     "data": {
      "text/latex": [
       "$\\displaystyle 12 A_{40} - 12 A_{41} d = 0$"
      ],
      "text/plain": [
       "Eq(12*A_40 - 12*A_41*d, 0)"
      ]
     },
     "metadata": {},
     "output_type": "display_data"
    },
    {
     "data": {
      "text/latex": [
       "$\\displaystyle 20 A_{50} = 0$"
      ],
      "text/plain": [
       "Eq(20*A_50, 0)"
      ]
     },
     "metadata": {},
     "output_type": "display_data"
    },
    {
     "data": {
      "text/latex": [
       "$\\displaystyle 2 A_{20} - 2 A_{21} d + 2 A_{22} d^{2} - 2 A_{23} d^{3} = 0$"
      ],
      "text/plain": [
       "Eq(2*A_20 - 2*A_21*d + 2*A_22*d**2 - 2*A_23*d**3, 0)"
      ]
     },
     "metadata": {},
     "output_type": "display_data"
    },
    {
     "data": {
      "text/latex": [
       "$\\displaystyle - 2 A_{21} + 4 A_{22} d - 6 A_{23} d^{2} = 0$"
      ],
      "text/plain": [
       "Eq(-2*A_21 + 4*A_22*d - 6*A_23*d**2, 0)"
      ]
     },
     "metadata": {},
     "output_type": "display_data"
    },
    {
     "data": {
      "text/latex": [
       "$\\displaystyle - 3 A_{31} + 6 A_{32} d = 0$"
      ],
      "text/plain": [
       "Eq(-3*A_31 + 6*A_32*d, 0)"
      ]
     },
     "metadata": {},
     "output_type": "display_data"
    },
    {
     "data": {
      "text/latex": [
       "$\\displaystyle - 4 A_{41} = 0$"
      ],
      "text/plain": [
       "Eq(-4*A_41, 0)"
      ]
     },
     "metadata": {},
     "output_type": "display_data"
    },
    {
     "data": {
      "text/latex": [
       "$\\displaystyle - A_{11} + 2 A_{12} d - 3 A_{13} d^{2} + 4 A_{14} d^{3} = 0$"
      ],
      "text/plain": [
       "Eq(-A_11 + 2*A_12*d - 3*A_13*d**2 + 4*A_14*d**3, 0)"
      ]
     },
     "metadata": {},
     "output_type": "display_data"
    }
   ],
   "source": [
    "bc1 = sym.Eq(t1.coeff(x),0)\n",
    "bc2 = sym.Eq(t1.coeff(x**2),0)\n",
    "bc3 = sym.Eq(t1.coeff(x**3),0)\n",
    "bc4 = sym.Eq(t1.subs(x,0),0)\n",
    "bc5 = sym.Eq(t2.coeff(x),0)\n",
    "bc6 = sym.Eq(t2.coeff(x**2),0)\n",
    "bc7 = sym.Eq(t2.coeff(x**3),0)\n",
    "bc8 = sym.Eq(t2.subs(x,0),0)\n",
    "\n",
    "display(bc1,bc2,bc3,bc4,bc5,bc6,bc7,bc8)"
   ]
  },
  {
   "cell_type": "markdown",
   "metadata": {},
   "source": [
    "<font color='green'> Now we apply conditions: at $y=0$ ,$\\sigma_{yy}$ = $-Qx$/$L \n",
    ", \\sigma_{xy} = 0$ </font>"
   ]
  },
  {
   "cell_type": "code",
   "execution_count": 16,
   "metadata": {},
   "outputs": [
    {
     "data": {
      "text/latex": [
       "$\\displaystyle t3=2 A_{20} + 6 A_{30} x + 12 A_{40} x^{2} + 20 A_{50} x^{3}$"
      ],
      "text/plain": [
       "<IPython.core.display.Math object>"
      ]
     },
     "metadata": {},
     "output_type": "display_data"
    },
    {
     "data": {
      "text/latex": [
       "$\\displaystyle t4=- A_{11} - 2 A_{21} x - 3 A_{31} x^{2} - 4 A_{41} x^{3}$"
      ],
      "text/plain": [
       "<IPython.core.display.Math object>"
      ]
     },
     "metadata": {},
     "output_type": "display_data"
    }
   ],
   "source": [
    "t3 = sigmayy.subs(y,0)\n",
    "t4 = sigmaxy.subs(y,0)\n",
    "\n",
    "display(Math(r'$t3={}$'.format(sym.latex(t3))))\n",
    "display(Math(r'$t4={}$'.format(sym.latex(t4))))"
   ]
  },
  {
   "cell_type": "code",
   "execution_count": 17,
   "metadata": {},
   "outputs": [
    {
     "data": {
      "text/latex": [
       "$\\displaystyle 6 A_{30} = - \\frac{Q}{L}$"
      ],
      "text/plain": [
       "Eq(6*A_30, -Q/L)"
      ]
     },
     "metadata": {},
     "output_type": "display_data"
    },
    {
     "data": {
      "text/latex": [
       "$\\displaystyle 12 A_{40} = 0$"
      ],
      "text/plain": [
       "Eq(12*A_40, 0)"
      ]
     },
     "metadata": {},
     "output_type": "display_data"
    },
    {
     "data": {
      "text/latex": [
       "$\\displaystyle 20 A_{50} = 0$"
      ],
      "text/plain": [
       "Eq(20*A_50, 0)"
      ]
     },
     "metadata": {},
     "output_type": "display_data"
    },
    {
     "data": {
      "text/latex": [
       "$\\displaystyle 2 A_{20} = 0$"
      ],
      "text/plain": [
       "Eq(2*A_20, 0)"
      ]
     },
     "metadata": {},
     "output_type": "display_data"
    },
    {
     "data": {
      "text/latex": [
       "$\\displaystyle - 2 A_{21} = 0$"
      ],
      "text/plain": [
       "Eq(-2*A_21, 0)"
      ]
     },
     "metadata": {},
     "output_type": "display_data"
    },
    {
     "data": {
      "text/latex": [
       "$\\displaystyle - 3 A_{31} = 0$"
      ],
      "text/plain": [
       "Eq(-3*A_31, 0)"
      ]
     },
     "metadata": {},
     "output_type": "display_data"
    },
    {
     "data": {
      "text/latex": [
       "$\\displaystyle - 4 A_{41} = 0$"
      ],
      "text/plain": [
       "Eq(-4*A_41, 0)"
      ]
     },
     "metadata": {},
     "output_type": "display_data"
    },
    {
     "data": {
      "text/latex": [
       "$\\displaystyle - A_{11} = 0$"
      ],
      "text/plain": [
       "Eq(-A_11, 0)"
      ]
     },
     "metadata": {},
     "output_type": "display_data"
    }
   ],
   "source": [
    "bc9 = sym.Eq(t3.coeff(x),-Q/L)\n",
    "bc10 = sym.Eq(t3.coeff(x**2),0)\n",
    "bc11 = sym.Eq(t3.coeff(x**3),0)\n",
    "bc12 = sym.Eq(t3.subs(x,0),0)\n",
    "bc13 = sym.Eq(t4.coeff(x),0)\n",
    "bc14 = sym.Eq(t4.coeff(x**2),0)\n",
    "bc15 = sym.Eq(t4.coeff(x**3),0)\n",
    "bc16 = sym.Eq(t4.subs(x,0),0)\n",
    "\n",
    "display(bc9,bc10,bc11,bc12,bc13,bc14,bc15,bc16)"
   ]
  },
  {
   "cell_type": "markdown",
   "metadata": {},
   "source": [
    "<font color='green'> Now we apply conditions:at $x=0$ ,$\\int\\sigma_{xx}\\,dy = 0$ and $\\int\\sigma_{xy}\\,dy = 0$ and $\\int\\sigma_{xx}y\\,dy = 0$ with limits -d to 0</font>"
   ]
  },
  {
   "cell_type": "code",
   "execution_count": 18,
   "metadata": {},
   "outputs": [
    {
     "data": {
      "text/latex": [
       "$\\displaystyle t5=2 A_{02} + 6 A_{03} y + 12 A_{04} y^{2} + 20 A_{05} y^{3}$"
      ],
      "text/plain": [
       "<IPython.core.display.Math object>"
      ]
     },
     "metadata": {},
     "output_type": "display_data"
    },
    {
     "data": {
      "text/latex": [
       "$\\displaystyle t6=- A_{11} - 2 A_{12} y - 3 A_{13} y^{2} - 4 A_{14} y^{3}$"
      ],
      "text/plain": [
       "<IPython.core.display.Math object>"
      ]
     },
     "metadata": {},
     "output_type": "display_data"
    }
   ],
   "source": [
    "t5 = sigmaxx.subs(x,0)\n",
    "t6 = sigmaxy.subs(x,0)\n",
    "\n",
    "display(Math(r'$t5={}$'.format(sym.latex(t5))))\n",
    "display(Math(r'$t6={}$'.format(sym.latex(t6))))"
   ]
  },
  {
   "cell_type": "code",
   "execution_count": 19,
   "metadata": {},
   "outputs": [
    {
     "data": {
      "text/latex": [
       "$\\displaystyle Fx1=2 A_{02} d - 3 A_{03} d^{2} + 4 A_{04} d^{3} - 5 A_{05} d^{4}$"
      ],
      "text/plain": [
       "<IPython.core.display.Math object>"
      ]
     },
     "metadata": {},
     "output_type": "display_data"
    },
    {
     "data": {
      "text/latex": [
       "$\\displaystyle M1=- A_{02} d^{2} + 2 A_{03} d^{3} - 3 A_{04} d^{4} + 4 A_{05} d^{5}$"
      ],
      "text/plain": [
       "<IPython.core.display.Math object>"
      ]
     },
     "metadata": {},
     "output_type": "display_data"
    },
    {
     "data": {
      "text/latex": [
       "$\\displaystyle V1=- A_{11} d + A_{12} d^{2} - A_{13} d^{3} + A_{14} d^{4}$"
      ],
      "text/plain": [
       "<IPython.core.display.Math object>"
      ]
     },
     "metadata": {},
     "output_type": "display_data"
    }
   ],
   "source": [
    "Fx1 = (sym.integrate(t5,(y,-d,0))).expand()\n",
    "\n",
    "display(Math(r'$Fx1={}$'.format(sym.latex(Fx1))))\n",
    "\n",
    "M1 = (sym.integrate(t5*y,(y,-d,0))).expand()\n",
    "\n",
    "display(Math(r'$M1={}$'.format(sym.latex(M1))))\n",
    "\n",
    "V1 = (sym.integrate(t6,(y,-d,0))).expand()\n",
    "\n",
    "display(Math(r'$V1={}$'.format(sym.latex(V1))))"
   ]
  },
  {
   "cell_type": "code",
   "execution_count": 20,
   "metadata": {},
   "outputs": [
    {
     "data": {
      "text/latex": [
       "$\\displaystyle 2 A_{02} d - 3 A_{03} d^{2} + 4 A_{04} d^{3} - 5 A_{05} d^{4} = 0$"
      ],
      "text/plain": [
       "Eq(2*A_02*d - 3*A_03*d**2 + 4*A_04*d**3 - 5*A_05*d**4, 0)"
      ]
     },
     "metadata": {},
     "output_type": "display_data"
    },
    {
     "data": {
      "text/latex": [
       "$\\displaystyle - A_{02} d^{2} + 2 A_{03} d^{3} - 3 A_{04} d^{4} + 4 A_{05} d^{5} = 0$"
      ],
      "text/plain": [
       "Eq(-A_02*d**2 + 2*A_03*d**3 - 3*A_04*d**4 + 4*A_05*d**5, 0)"
      ]
     },
     "metadata": {},
     "output_type": "display_data"
    },
    {
     "data": {
      "text/latex": [
       "$\\displaystyle - A_{11} d + A_{12} d^{2} - A_{13} d^{3} + A_{14} d^{4} = 0$"
      ],
      "text/plain": [
       "Eq(-A_11*d + A_12*d**2 - A_13*d**3 + A_14*d**4, 0)"
      ]
     },
     "metadata": {},
     "output_type": "display_data"
    }
   ],
   "source": [
    "bc17 = sym.Eq(Fx1,0)\n",
    "bc18 = sym.Eq(M1,0)\n",
    "bc19 = sym.Eq(V1,0)\n",
    "\n",
    "display(bc17,bc18,bc19)"
   ]
  },
  {
   "cell_type": "markdown",
   "metadata": {},
   "source": [
    "<font color='green'> Now we apply conditions:at $x=L$ ,$\\int\\sigma_{xx}\\,dy = 0$ and $\\int\\sigma_{xy}\\,dy$ = $Q$*$L$/2 and $\\int\\sigma_{xx}y\\,dy$ = ($Q$*$L$<sup>2</sup>)/6 with limits -d to 0</font>"
   ]
  },
  {
   "cell_type": "code",
   "execution_count": 21,
   "metadata": {},
   "outputs": [
    {
     "data": {
      "text/latex": [
       "$\\displaystyle t7=2 A_{02} + 6 A_{03} y + 12 A_{04} y^{2} + 20 A_{05} y^{3} + 2 A_{12} L + 6 A_{13} L y + 12 A_{14} L y^{2} + 2 A_{22} L^{2} + 6 A_{23} L^{2} y + 2 A_{32} L^{3}$"
      ],
      "text/plain": [
       "<IPython.core.display.Math object>"
      ]
     },
     "metadata": {},
     "output_type": "display_data"
    },
    {
     "data": {
      "text/latex": [
       "$\\displaystyle t8=- A_{11} - 2 A_{12} y - 3 A_{13} y^{2} - 4 A_{14} y^{3} - 2 A_{21} L - 4 A_{22} L y - 6 A_{23} L y^{2} - 3 A_{31} L^{2} - 6 A_{32} L^{2} y - 4 A_{41} L^{3}$"
      ],
      "text/plain": [
       "<IPython.core.display.Math object>"
      ]
     },
     "metadata": {},
     "output_type": "display_data"
    }
   ],
   "source": [
    "t7 = sigmaxx.subs(x,L)\n",
    "t8 = sigmaxy.subs(x,L)\n",
    "\n",
    "display(Math(r'$t7={}$'.format(sym.latex(t7))))\n",
    "display(Math(r'$t8={}$'.format(sym.latex(t8))))"
   ]
  },
  {
   "cell_type": "code",
   "execution_count": 22,
   "metadata": {},
   "outputs": [
    {
     "data": {
      "text/latex": [
       "$\\displaystyle Fx2=2 A_{02} d - 3 A_{03} d^{2} + 4 A_{04} d^{3} - 5 A_{05} d^{4} + 2 A_{12} L d - 3 A_{13} L d^{2} + 4 A_{14} L d^{3} + 2 A_{22} L^{2} d - 3 A_{23} L^{2} d^{2} + 2 A_{32} L^{3} d$"
      ],
      "text/plain": [
       "<IPython.core.display.Math object>"
      ]
     },
     "metadata": {},
     "output_type": "display_data"
    },
    {
     "data": {
      "text/latex": [
       "$\\displaystyle M2=- A_{02} d^{2} + 2 A_{03} d^{3} - 3 A_{04} d^{4} + 4 A_{05} d^{5} - A_{12} L d^{2} + 2 A_{13} L d^{3} - 3 A_{14} L d^{4} - A_{22} L^{2} d^{2} + 2 A_{23} L^{2} d^{3} - A_{32} L^{3} d^{2}$"
      ],
      "text/plain": [
       "<IPython.core.display.Math object>"
      ]
     },
     "metadata": {},
     "output_type": "display_data"
    },
    {
     "data": {
      "text/latex": [
       "$\\displaystyle V2=- A_{11} d + A_{12} d^{2} - A_{13} d^{3} + A_{14} d^{4} - 2 A_{21} L d + 2 A_{22} L d^{2} - 2 A_{23} L d^{3} - 3 A_{31} L^{2} d + 3 A_{32} L^{2} d^{2} - 4 A_{41} L^{3} d$"
      ],
      "text/plain": [
       "<IPython.core.display.Math object>"
      ]
     },
     "metadata": {},
     "output_type": "display_data"
    }
   ],
   "source": [
    "Fx2 = (sym.integrate(t7,(y,-d,0))).expand()\n",
    "\n",
    "display(Math(r'$Fx2={}$'.format(sym.latex(Fx2))))\n",
    "\n",
    "M2 = (sym.integrate(t7*y,(y,-d,0))).expand()\n",
    "\n",
    "display(Math(r'$M2={}$'.format(sym.latex(M2))))\n",
    "\n",
    "V2 = (sym.integrate(t8,(y,-d,0))).expand()\n",
    "\n",
    "display(Math(r'$V2={}$'.format(sym.latex(V2))))"
   ]
  },
  {
   "cell_type": "code",
   "execution_count": 23,
   "metadata": {},
   "outputs": [
    {
     "data": {
      "text/latex": [
       "$\\displaystyle 2 A_{02} d - 3 A_{03} d^{2} + 4 A_{04} d^{3} - 5 A_{05} d^{4} + 2 A_{12} L d - 3 A_{13} L d^{2} + 4 A_{14} L d^{3} + 2 A_{22} L^{2} d - 3 A_{23} L^{2} d^{2} + 2 A_{32} L^{3} d = 0$"
      ],
      "text/plain": [
       "Eq(2*A_02*d - 3*A_03*d**2 + 4*A_04*d**3 - 5*A_05*d**4 + 2*A_12*L*d - 3*A_13*L*d**2 + 4*A_14*L*d**3 + 2*A_22*L**2*d - 3*A_23*L**2*d**2 + 2*A_32*L**3*d, 0)"
      ]
     },
     "metadata": {},
     "output_type": "display_data"
    },
    {
     "data": {
      "text/latex": [
       "$\\displaystyle - A_{02} d^{2} + 2 A_{03} d^{3} - 3 A_{04} d^{4} + 4 A_{05} d^{5} - A_{12} L d^{2} + 2 A_{13} L d^{3} - 3 A_{14} L d^{4} - A_{22} L^{2} d^{2} + 2 A_{23} L^{2} d^{3} - A_{32} L^{3} d^{2} = \\frac{L^{2} Q}{6}$"
      ],
      "text/plain": [
       "Eq(-A_02*d**2 + 2*A_03*d**3 - 3*A_04*d**4 + 4*A_05*d**5 - A_12*L*d**2 + 2*A_13*L*d**3 - 3*A_14*L*d**4 - A_22*L**2*d**2 + 2*A_23*L**2*d**3 - A_32*L**3*d**2, L**2*Q/6)"
      ]
     },
     "metadata": {},
     "output_type": "display_data"
    },
    {
     "data": {
      "text/latex": [
       "$\\displaystyle - A_{11} d + A_{12} d^{2} - A_{13} d^{3} + A_{14} d^{4} - 2 A_{21} L d + 2 A_{22} L d^{2} - 2 A_{23} L d^{3} - 3 A_{31} L^{2} d + 3 A_{32} L^{2} d^{2} - 4 A_{41} L^{3} d = \\frac{L Q}{2}$"
      ],
      "text/plain": [
       "Eq(-A_11*d + A_12*d**2 - A_13*d**3 + A_14*d**4 - 2*A_21*L*d + 2*A_22*L*d**2 - 2*A_23*L*d**3 - 3*A_31*L**2*d + 3*A_32*L**2*d**2 - 4*A_41*L**3*d, L*Q/2)"
      ]
     },
     "metadata": {},
     "output_type": "display_data"
    }
   ],
   "source": [
    "bc20 = sym.Eq(Fx2,0)\n",
    "bc21 = sym.Eq(M2,((Q*L**2)/6))\n",
    "bc22 = sym.Eq(V2,((Q*L)/2))\n",
    "\n",
    "display(bc20,bc21,bc22)"
   ]
  },
  {
   "cell_type": "code",
   "execution_count": 24,
   "metadata": {},
   "outputs": [],
   "source": [
    "soln,=sym.linsolve([cond1,cond2,cond3,bc7,bc8,bc9,bc10,bc11,bc12,bc13,bc14,bc15,bc16,bc17,bc18,bc19,bc20,bc21,bc22],[A20,A11,A02,A30,A21,A12,A03,A40,A31,A22,A13,A04,A50,A41,A32,A23,A14,A05])"
   ]
  },
  {
   "cell_type": "code",
   "execution_count": 25,
   "metadata": {},
   "outputs": [
    {
     "data": {
      "text/latex": [
       "$\\displaystyle A_{20}=0$"
      ],
      "text/plain": [
       "<IPython.core.display.Math object>"
      ]
     },
     "metadata": {},
     "output_type": "display_data"
    },
    {
     "data": {
      "text/latex": [
       "$\\displaystyle A_{11}=0$"
      ],
      "text/plain": [
       "<IPython.core.display.Math object>"
      ]
     },
     "metadata": {},
     "output_type": "display_data"
    },
    {
     "data": {
      "text/latex": [
       "$\\displaystyle A_{02}=\\frac{Q}{45}$"
      ],
      "text/plain": [
       "<IPython.core.display.Math object>"
      ]
     },
     "metadata": {},
     "output_type": "display_data"
    },
    {
     "data": {
      "text/latex": [
       "$\\displaystyle A_{30}=- \\frac{Q}{6 L}$"
      ],
      "text/plain": [
       "<IPython.core.display.Math object>"
      ]
     },
     "metadata": {},
     "output_type": "display_data"
    },
    {
     "data": {
      "text/latex": [
       "$\\displaystyle A_{21}=0$"
      ],
      "text/plain": [
       "<IPython.core.display.Math object>"
      ]
     },
     "metadata": {},
     "output_type": "display_data"
    },
    {
     "data": {
      "text/latex": [
       "$\\displaystyle A_{12}=- \\frac{Q}{6 L}$"
      ],
      "text/plain": [
       "<IPython.core.display.Math object>"
      ]
     },
     "metadata": {},
     "output_type": "display_data"
    },
    {
     "data": {
      "text/latex": [
       "$\\displaystyle A_{03}=- \\frac{Q}{45 d}$"
      ],
      "text/plain": [
       "<IPython.core.display.Math object>"
      ]
     },
     "metadata": {},
     "output_type": "display_data"
    },
    {
     "data": {
      "text/latex": [
       "$\\displaystyle A_{40}=0$"
      ],
      "text/plain": [
       "<IPython.core.display.Math object>"
      ]
     },
     "metadata": {},
     "output_type": "display_data"
    },
    {
     "data": {
      "text/latex": [
       "$\\displaystyle A_{31}=0$"
      ],
      "text/plain": [
       "<IPython.core.display.Math object>"
      ]
     },
     "metadata": {},
     "output_type": "display_data"
    },
    {
     "data": {
      "text/latex": [
       "$\\displaystyle A_{22}=\\frac{Q}{3 d^{2}}$"
      ],
      "text/plain": [
       "<IPython.core.display.Math object>"
      ]
     },
     "metadata": {},
     "output_type": "display_data"
    },
    {
     "data": {
      "text/latex": [
       "$\\displaystyle A_{13}=- \\frac{Q}{3 L d}$"
      ],
      "text/plain": [
       "<IPython.core.display.Math object>"
      ]
     },
     "metadata": {},
     "output_type": "display_data"
    },
    {
     "data": {
      "text/latex": [
       "$\\displaystyle A_{04}=- \\frac{Q}{9 d^{2}}$"
      ],
      "text/plain": [
       "<IPython.core.display.Math object>"
      ]
     },
     "metadata": {},
     "output_type": "display_data"
    },
    {
     "data": {
      "text/latex": [
       "$\\displaystyle A_{50}=0$"
      ],
      "text/plain": [
       "<IPython.core.display.Math object>"
      ]
     },
     "metadata": {},
     "output_type": "display_data"
    },
    {
     "data": {
      "text/latex": [
       "$\\displaystyle A_{41}=0$"
      ],
      "text/plain": [
       "<IPython.core.display.Math object>"
      ]
     },
     "metadata": {},
     "output_type": "display_data"
    },
    {
     "data": {
      "text/latex": [
       "$\\displaystyle A_{32}=\\frac{Q}{6 L d^{2}}$"
      ],
      "text/plain": [
       "<IPython.core.display.Math object>"
      ]
     },
     "metadata": {},
     "output_type": "display_data"
    },
    {
     "data": {
      "text/latex": [
       "$\\displaystyle A_{23}=\\frac{Q}{3 d^{3}}$"
      ],
      "text/plain": [
       "<IPython.core.display.Math object>"
      ]
     },
     "metadata": {},
     "output_type": "display_data"
    },
    {
     "data": {
      "text/latex": [
       "$\\displaystyle A_{14}=- \\frac{Q}{6 L d^{2}}$"
      ],
      "text/plain": [
       "<IPython.core.display.Math object>"
      ]
     },
     "metadata": {},
     "output_type": "display_data"
    },
    {
     "data": {
      "text/latex": [
       "$\\displaystyle A_{05}=- \\frac{Q}{15 d^{3}}$"
      ],
      "text/plain": [
       "<IPython.core.display.Math object>"
      ]
     },
     "metadata": {},
     "output_type": "display_data"
    }
   ],
   "source": [
    "A20soln=soln[0]\n",
    "A11soln=soln[1]\n",
    "A02soln=soln[2]\n",
    "A30soln=soln[3]\n",
    "A21soln=soln[4]\n",
    "A12soln=soln[5]\n",
    "A03soln=soln[6]\n",
    "A40soln=soln[7]\n",
    "A31soln=soln[8]\n",
    "A22soln=soln[9]\n",
    "A13soln=soln[10]\n",
    "A04soln=soln[11]\n",
    "A50soln=soln[12]\n",
    "A41soln=soln[13]\n",
    "A32soln=soln[14]\n",
    "A23soln=soln[15]\n",
    "A14soln=soln[16]\n",
    "A05soln=soln[17]\n",
    "display(Math(r'$A_{{20}}={}$'.format(sym.latex(A20soln))))\n",
    "display(Math(r'$A_{{11}}={}$'.format(sym.latex(A11soln))))\n",
    "display(Math(r'$A_{{02}}={}$'.format(sym.latex(A02soln))))\n",
    "display(Math(r'$A_{{30}}={}$'.format(sym.latex(A30soln))))\n",
    "display(Math(r'$A_{{21}}={}$'.format(sym.latex(A21soln))))\n",
    "display(Math(r'$A_{{12}}={}$'.format(sym.latex(A12soln))))\n",
    "display(Math(r'$A_{{03}}={}$'.format(sym.latex(A03soln))))\n",
    "display(Math(r'$A_{{40}}={}$'.format(sym.latex(A40soln))))\n",
    "display(Math(r'$A_{{31}}={}$'.format(sym.latex(A31soln))))\n",
    "display(Math(r'$A_{{22}}={}$'.format(sym.latex(A22soln))))\n",
    "display(Math(r'$A_{{13}}={}$'.format(sym.latex(A13soln))))\n",
    "display(Math(r'$A_{{04}}={}$'.format(sym.latex(A04soln))))\n",
    "display(Math(r'$A_{{50}}={}$'.format(sym.latex(A50soln))))\n",
    "display(Math(r'$A_{{41}}={}$'.format(sym.latex(A41soln))))\n",
    "display(Math(r'$A_{{32}}={}$'.format(sym.latex(A32soln))))\n",
    "display(Math(r'$A_{{23}}={}$'.format(sym.latex(A23soln))))\n",
    "display(Math(r'$A_{{14}}={}$'.format(sym.latex(A14soln))))\n",
    "display(Math(r'$A_{{05}}={}$'.format(sym.latex(A05soln))))"
   ]
  },
  {
   "cell_type": "code",
   "execution_count": 51,
   "metadata": {},
   "outputs": [
    {
     "name": "stdout",
     "output_type": "stream",
     "text": [
      "We got airy stress function\n"
     ]
    },
    {
     "data": {
      "text/latex": [
       "$\\displaystyle \\phi = \\frac{Q y^{2}}{45} - \\frac{Q y^{3}}{45 d} + \\frac{Q x^{2} y^{2}}{3 d^{2}} - \\frac{Q y^{4}}{9 d^{2}} + \\frac{Q x^{2} y^{3}}{3 d^{3}} - \\frac{Q y^{5}}{15 d^{3}} - \\frac{Q x^{3}}{6 L} - \\frac{Q x y^{2}}{6 L} - \\frac{Q x y^{3}}{3 L d} + \\frac{Q x^{3} y^{2}}{6 L d^{2}} - \\frac{Q x y^{4}}{6 L d^{2}}$"
      ],
      "text/plain": [
       "<IPython.core.display.Math object>"
      ]
     },
     "metadata": {},
     "output_type": "display_data"
    }
   ],
   "source": [
    "phi = phi.subs([(A20,A20soln),(A11,A11soln),(A02,A02soln),(A30,A30soln),(A21,A21soln),(A12,A12soln),(A03,A03soln),(A40,A40soln),(A31,A31soln),(A22,A22soln),(A13,A13soln),(A04,A04soln),(A50,A50soln),(A41,A41soln),(A32,A32soln),(A23,A23soln),(A14,A14soln),(A05,A05soln)])\n",
    "print(\"We got airy stress function\")\n",
    "display(Math(r'\\phi = {}'.format(sym.latex(phi))))"
   ]
  },
  {
   "cell_type": "code",
   "execution_count": 26,
   "metadata": {},
   "outputs": [
    {
     "data": {
      "text/latex": [
       "$\\displaystyle \\sigma_{xx}=\\frac{2 Q}{45} - \\frac{2 Q y}{15 d} + \\frac{2 Q x^{2}}{3 d^{2}} - \\frac{4 Q y^{2}}{3 d^{2}} + \\frac{2 Q x^{2} y}{d^{3}} - \\frac{4 Q y^{3}}{3 d^{3}} - \\frac{Q x}{3 L} - \\frac{2 Q x y}{L d} + \\frac{Q x^{3}}{3 L d^{2}} - \\frac{2 Q x y^{2}}{L d^{2}}$"
      ],
      "text/plain": [
       "<IPython.core.display.Math object>"
      ]
     },
     "metadata": {},
     "output_type": "display_data"
    },
    {
     "data": {
      "text/latex": [
       "$\\displaystyle \\sigma_{yy}=\\frac{2 Q y^{2}}{3 d^{2}} + \\frac{2 Q y^{3}}{3 d^{3}} - \\frac{Q x}{L} + \\frac{Q x y^{2}}{L d^{2}}$"
      ],
      "text/plain": [
       "<IPython.core.display.Math object>"
      ]
     },
     "metadata": {},
     "output_type": "display_data"
    },
    {
     "data": {
      "text/latex": [
       "$\\displaystyle \\sigma_{xy}=- \\frac{4 Q x y}{3 d^{2}} - \\frac{2 Q x y^{2}}{d^{3}} + \\frac{Q y}{3 L} + \\frac{Q y^{2}}{L d} - \\frac{Q x^{2} y}{L d^{2}} + \\frac{2 Q y^{3}}{3 L d^{2}}$"
      ],
      "text/plain": [
       "<IPython.core.display.Math object>"
      ]
     },
     "metadata": {},
     "output_type": "display_data"
    }
   ],
   "source": [
    "sigmaxx_soln=sigmaxx.subs([(A20,A20soln),(A11,A11soln),(A02,A02soln),(A30,A30soln),(A21,A21soln),(A12,A12soln),(A03,A03soln),(A40,A40soln),(A31,A31soln),(A22,A22soln),(A13,A13soln),(A04,A04soln),(A50,A50soln),(A41,A41soln),(A32,A32soln),(A23,A23soln),(A14,A14soln),(A05,A05soln)])\n",
    "sigmayy_soln=sigmayy.subs([(A20,A20soln),(A11,A11soln),(A02,A02soln),(A30,A30soln),(A21,A21soln),(A12,A12soln),(A03,A03soln),(A40,A40soln),(A31,A31soln),(A22,A22soln),(A13,A13soln),(A04,A04soln),(A50,A50soln),(A41,A41soln),(A32,A32soln),(A23,A23soln),(A14,A14soln),(A05,A05soln)])\n",
    "sigmaxy_soln=sigmaxy.subs([(A20,A20soln),(A11,A11soln),(A02,A02soln),(A30,A30soln),(A21,A21soln),(A12,A12soln),(A03,A03soln),(A40,A40soln),(A31,A31soln),(A22,A22soln),(A13,A13soln),(A04,A04soln),(A50,A50soln),(A41,A41soln),(A32,A32soln),(A23,A23soln),(A14,A14soln),(A05,A05soln)])\n",
    "\n",
    "display(Math(r'\\sigma_{{xx}}={}'.format(sym.latex(sigmaxx_soln))))\n",
    "display(Math(r'\\sigma_{{yy}}={}'.format(sym.latex(sigmayy_soln))))\n",
    "display(Math(r'\\sigma_{{xy}}={}'.format(sym.latex(sigmaxy_soln))))"
   ]
  },
  {
   "cell_type": "code",
   "execution_count": 27,
   "metadata": {},
   "outputs": [
    {
     "data": {
      "text/latex": [
       "$\\displaystyle \\varepsilon_{xx} = \\frac{2 Q}{45 E} - \\frac{2 Q y}{15 E d} - \\frac{2 Q \\nu y^{2}}{3 E d^{2}} + \\frac{2 Q x^{2}}{3 E d^{2}} - \\frac{4 Q y^{2}}{3 E d^{2}} - \\frac{2 Q \\nu y^{3}}{3 E d^{3}} + \\frac{2 Q x^{2} y}{E d^{3}} - \\frac{4 Q y^{3}}{3 E d^{3}} + \\frac{Q \\nu x}{E L} - \\frac{Q x}{3 E L} - \\frac{2 Q x y}{E L d} - \\frac{Q \\nu x y^{2}}{E L d^{2}} + \\frac{Q x^{3}}{3 E L d^{2}} - \\frac{2 Q x y^{2}}{E L d^{2}}$"
      ],
      "text/plain": [
       "<IPython.core.display.Math object>"
      ]
     },
     "metadata": {},
     "output_type": "display_data"
    },
    {
     "data": {
      "text/latex": [
       "$\\displaystyle \\varepsilon_{yy} = - \\frac{2 Q \\nu}{45 E} + \\frac{2 Q \\nu y}{15 E d} - \\frac{2 Q \\nu x^{2}}{3 E d^{2}} + \\frac{4 Q \\nu y^{2}}{3 E d^{2}} + \\frac{2 Q y^{2}}{3 E d^{2}} - \\frac{2 Q \\nu x^{2} y}{E d^{3}} + \\frac{4 Q \\nu y^{3}}{3 E d^{3}} + \\frac{2 Q y^{3}}{3 E d^{3}} + \\frac{Q \\nu x}{3 E L} - \\frac{Q x}{E L} + \\frac{2 Q \\nu x y}{E L d} - \\frac{Q \\nu x^{3}}{3 E L d^{2}} + \\frac{2 Q \\nu x y^{2}}{E L d^{2}} + \\frac{Q x y^{2}}{E L d^{2}}$"
      ],
      "text/plain": [
       "<IPython.core.display.Math object>"
      ]
     },
     "metadata": {},
     "output_type": "display_data"
    },
    {
     "data": {
      "text/latex": [
       "$\\displaystyle \\varepsilon_{xy} = - \\frac{4 Q \\nu x y}{3 E d^{2}} - \\frac{4 Q x y}{3 E d^{2}} - \\frac{2 Q \\nu x y^{2}}{E d^{3}} - \\frac{2 Q x y^{2}}{E d^{3}} + \\frac{Q \\nu y}{3 E L} + \\frac{Q y}{3 E L} + \\frac{Q \\nu y^{2}}{E L d} + \\frac{Q y^{2}}{E L d} - \\frac{Q \\nu x^{2} y}{E L d^{2}} + \\frac{2 Q \\nu y^{3}}{3 E L d^{2}} - \\frac{Q x^{2} y}{E L d^{2}} + \\frac{2 Q y^{3}}{3 E L d^{2}}$"
      ],
      "text/plain": [
       "<IPython.core.display.Math object>"
      ]
     },
     "metadata": {},
     "output_type": "display_data"
    }
   ],
   "source": [
    "E, nu = sym.symbols('E, nu', positive = \"True\")\n",
    "\n",
    "ep_xx_stress = (1/E*(sigmaxx_soln - nu*sigmayy_soln)).expand()\n",
    "ep_yy_stress = (1/E*(sigmayy_soln - nu*sigmaxx_soln)).expand()\n",
    "ep_xy_stress = ((1+nu)/E*sigmaxy_soln).expand()\n",
    "\n",
    "display(Math(r'\\varepsilon_{{xx}} = {}'.format(sym.latex(ep_xx_stress))))\n",
    "display(Math(r'\\varepsilon_{{yy}} = {}'.format(sym.latex(ep_yy_stress))))\n",
    "display(Math(r'\\varepsilon_{{xy}} = {}'.format(sym.latex(ep_xy_stress))))"
   ]
  },
  {
   "cell_type": "code",
   "execution_count": 28,
   "metadata": {},
   "outputs": [
    {
     "data": {
      "text/latex": [
       "$\\displaystyle u{\\left(x,y \\right)} = \\frac{180 E L d^{3} \\operatorname{f_{1}}{\\left(- y \\right)} + 8 L Q d^{3} x - 24 L Q d^{2} x y + 40 L Q d x \\left(- 3 \\nu y^{2} + x^{2} - 6 y^{2}\\right) + 120 L Q x y \\left(- \\nu y^{2} + x^{2} - 2 y^{2}\\right) + 30 Q d^{3} x^{2} \\left(3 \\nu - 1\\right) - 180 Q d^{2} x^{2} y + 15 Q d x^{2} \\left(- 6 \\nu y^{2} + x^{2} - 12 y^{2}\\right)}{180 E L d^{3}}$"
      ],
      "text/plain": [
       "Eq(u(x, y), (180*E*L*d**3*f_1(-y) + 8*L*Q*d**3*x - 24*L*Q*d**2*x*y + 40*L*Q*d*x*(-3*nu*y**2 + x**2 - 6*y**2) + 120*L*Q*x*y*(-nu*y**2 + x**2 - 2*y**2) + 30*Q*d**3*x**2*(3*nu - 1) - 180*Q*d**2*x**2*y + 15*Q*d*x**2*(-6*nu*y**2 + x**2 - 12*y**2))/(180*E*L*d**3))"
      ]
     },
     "execution_count": 28,
     "metadata": {},
     "output_type": "execute_result"
    }
   ],
   "source": [
    "u = sym.Function('u')(x,y)\n",
    "lhs = sym.diff(u,x)\n",
    "rhs = ep_xx_stress\n",
    "eq1 = sym.Eq(lhs,rhs)\n",
    "f1 = sym.Function('f_1')\n",
    "sol1 = sym.pdsolve(eq1,solvefun=f1)\n",
    "U_value = sol1.expand().simplify()\n",
    "U_value"
   ]
  },
  {
   "cell_type": "code",
   "execution_count": 29,
   "metadata": {},
   "outputs": [
    {
     "data": {
      "text/latex": [
       "$\\displaystyle v{\\left(x,y \\right)} = \\frac{E L d^{3} \\operatorname{f_{2}}{\\left(x \\right)} - \\frac{2 L Q d^{3} \\nu y}{45} + \\frac{L Q d^{2} \\nu y^{2}}{15} + \\frac{2 L Q d y \\left(- 3 \\nu x^{2} + 2 \\nu y^{2} + y^{2}\\right)}{9} + \\frac{L Q y^{2} \\left(- 6 \\nu x^{2} + 2 \\nu y^{2} + y^{2}\\right)}{6} + \\frac{Q d^{3} x y \\left(\\nu - 3\\right)}{3} + Q d^{2} \\nu x y^{2} + \\frac{Q d x y \\left(- \\nu x^{2} + 2 \\nu y^{2} + y^{2}\\right)}{3}}{E L d^{3}}$"
      ],
      "text/plain": [
       "Eq(v(x, y), (E*L*d**3*f_2(x) - 2*L*Q*d**3*nu*y/45 + L*Q*d**2*nu*y**2/15 + 2*L*Q*d*y*(-3*nu*x**2 + 2*nu*y**2 + y**2)/9 + L*Q*y**2*(-6*nu*x**2 + 2*nu*y**2 + y**2)/6 + Q*d**3*x*y*(nu - 3)/3 + Q*d**2*nu*x*y**2 + Q*d*x*y*(-nu*x**2 + 2*nu*y**2 + y**2)/3)/(E*L*d**3))"
      ]
     },
     "execution_count": 29,
     "metadata": {},
     "output_type": "execute_result"
    }
   ],
   "source": [
    "v = sym.Function('v')(x,y)\n",
    "lhs = sym.diff(v,y)\n",
    "rhs = ep_yy_stress\n",
    "eq2 = sym.Eq(lhs,rhs)\n",
    "f2 = sym.Function('f_2')\n",
    "sol2 = sym.pdsolve(eq2,solvefun=f2)\n",
    "V_value = sol2.expand().simplify()\n",
    "V_value"
   ]
  },
  {
   "cell_type": "code",
   "execution_count": 30,
   "metadata": {},
   "outputs": [
    {
     "data": {
      "text/latex": [
       "$\\displaystyle \\frac{\\frac{d}{d x} \\operatorname{f_{2}}{\\left(x \\right)}}{2} - \\frac{\\left. \\frac{d}{d \\xi_{1}} \\operatorname{f_{1}}{\\left(\\xi_{1} \\right)} \\right|_{\\substack{ \\xi_{1}=- y }}}{2} - \\frac{Q x}{15 E d} - \\frac{4 Q \\nu x y}{3 E d^{2}} - \\frac{4 Q x y}{3 E d^{2}} - \\frac{2 Q \\nu x y^{2}}{E d^{3}} + \\frac{Q x^{3}}{3 E d^{3}} - \\frac{2 Q x y^{2}}{E d^{3}} + \\frac{Q \\nu y}{6 E L} - \\frac{Q y}{2 E L} + \\frac{Q \\nu y^{2}}{2 E L d} - \\frac{Q x^{2}}{2 E L d} - \\frac{Q \\nu x^{2} y}{E L d^{2}} + \\frac{Q \\nu y^{3}}{3 E L d^{2}} - \\frac{Q x^{2} y}{E L d^{2}} + \\frac{Q y^{3}}{6 E L d^{2}} = - \\frac{4 Q \\nu x y}{3 E d^{2}} - \\frac{4 Q x y}{3 E d^{2}} - \\frac{2 Q \\nu x y^{2}}{E d^{3}} - \\frac{2 Q x y^{2}}{E d^{3}} + \\frac{Q \\nu y}{3 E L} + \\frac{Q y}{3 E L} + \\frac{Q \\nu y^{2}}{E L d} + \\frac{Q y^{2}}{E L d} - \\frac{Q \\nu x^{2} y}{E L d^{2}} + \\frac{2 Q \\nu y^{3}}{3 E L d^{2}} - \\frac{Q x^{2} y}{E L d^{2}} + \\frac{2 Q y^{3}}{3 E L d^{2}}$"
      ],
      "text/plain": [
       "Eq(Derivative(f_2(x), x)/2 - Subs(Derivative(f_1(_xi_1), _xi_1), _xi_1, -y)/2 - Q*x/(15*E*d) - 4*Q*nu*x*y/(3*E*d**2) - 4*Q*x*y/(3*E*d**2) - 2*Q*nu*x*y**2/(E*d**3) + Q*x**3/(3*E*d**3) - 2*Q*x*y**2/(E*d**3) + Q*nu*y/(6*E*L) - Q*y/(2*E*L) + Q*nu*y**2/(2*E*L*d) - Q*x**2/(2*E*L*d) - Q*nu*x**2*y/(E*L*d**2) + Q*nu*y**3/(3*E*L*d**2) - Q*x**2*y/(E*L*d**2) + Q*y**3/(6*E*L*d**2), -4*Q*nu*x*y/(3*E*d**2) - 4*Q*x*y/(3*E*d**2) - 2*Q*nu*x*y**2/(E*d**3) - 2*Q*x*y**2/(E*d**3) + Q*nu*y/(3*E*L) + Q*y/(3*E*L) + Q*nu*y**2/(E*L*d) + Q*y**2/(E*L*d) - Q*nu*x**2*y/(E*L*d**2) + 2*Q*nu*y**3/(3*E*L*d**2) - Q*x**2*y/(E*L*d**2) + 2*Q*y**3/(3*E*L*d**2))"
      ]
     },
     "execution_count": 30,
     "metadata": {},
     "output_type": "execute_result"
    }
   ],
   "source": [
    "lhs = sym.Rational(1,2)*(sym.diff(U_value.rhs,y) + sym.diff(V_value.rhs,x))\n",
    "rhs = ep_xy_stress\n",
    "eq3 = sym.Eq(lhs,rhs)\n",
    "eq3.expand().expand()"
   ]
  },
  {
   "cell_type": "code",
   "execution_count": 31,
   "metadata": {},
   "outputs": [
    {
     "data": {
      "text/latex": [
       "$\\displaystyle F{\\left(x \\right)} = \\frac{d}{d x} f{\\left(x \\right)} + \\frac{Q \\nu x}{12 E d} + \\frac{Q x}{15 E d} - \\frac{Q x^{3}}{12 E d^{3}} + \\frac{Q \\nu x^{2}}{4 E L d} + \\frac{Q x^{2}}{2 E L d}$"
      ],
      "text/plain": [
       "Eq(F(x), Derivative(f(x), x) + Q*nu*x/(12*E*d) + Q*x/(15*E*d) - Q*x**3/(12*E*d**3) + Q*nu*x**2/(4*E*L*d) + Q*x**2/(2*E*L*d))"
      ]
     },
     "execution_count": 31,
     "metadata": {},
     "output_type": "execute_result"
    }
   ],
   "source": [
    "F = sym.Function('F')(x)\n",
    "f = sym.Function('f')(x)\n",
    "lhs = F\n",
    "rhs = (Q*x)/(15*E*d)+(Q*nu*x)/(12*E*d)+(Q*nu*x**2)/(4*E*L*d)+(Q*x**2)/(2*E*L*d)-(Q*x**3)/(12*E*d**3) + sym.diff(f,x)\n",
    "eq4= sym.Eq(lhs,rhs)\n",
    "eq4"
   ]
  },
  {
   "cell_type": "code",
   "execution_count": 32,
   "metadata": {},
   "outputs": [
    {
     "data": {
      "text/latex": [
       "$\\displaystyle G{\\left(y \\right)} = \\frac{d}{d y} g{\\left(y \\right)} + \\frac{Q \\nu y}{6 E L} + \\frac{19 Q y}{12 E L} + \\frac{Q y^{2}}{4 E L d} - \\frac{Q \\nu y^{3}}{6 E L d^{2}} - \\frac{Q y^{3}}{4 E L d^{3}}$"
      ],
      "text/plain": [
       "Eq(G(y), Derivative(g(y), y) + Q*nu*y/(6*E*L) + 19*Q*y/(12*E*L) + Q*y**2/(4*E*L*d) - Q*nu*y**3/(6*E*L*d**2) - Q*y**3/(4*E*L*d**3))"
      ]
     },
     "execution_count": 32,
     "metadata": {},
     "output_type": "execute_result"
    }
   ],
   "source": [
    "G = sym.Function('G')(y)\n",
    "g = sym.Function('g')(y)\n",
    "lhs = G\n",
    "rhs = (Q*nu*y)/(6*E*L)+(19*Q*y)/(12*E*L)-(Q*nu*y**3)/(6*E*L*d**2)-(Q*y**3)/(4*E*L*d**3)+(Q*y**2)/(4*E*L*d) + sym.diff(g,y)\n",
    "eq5 = sym.Eq(lhs,rhs)\n",
    "eq5"
   ]
  },
  {
   "cell_type": "code",
   "execution_count": 33,
   "metadata": {},
   "outputs": [
    {
     "data": {
      "text/latex": [
       "$\\displaystyle K = 0$"
      ],
      "text/plain": [
       "Eq(K, 0)"
      ]
     },
     "execution_count": 33,
     "metadata": {},
     "output_type": "execute_result"
    }
   ],
   "source": [
    "K = sym.symbols('K')\n",
    "lhs = K\n",
    "rhs = 0\n",
    "eq6 = sym.Eq(lhs,rhs)\n",
    "eq6"
   ]
  },
  {
   "cell_type": "code",
   "execution_count": 34,
   "metadata": {},
   "outputs": [
    {
     "data": {
      "text/latex": [
       "$\\displaystyle \\frac{d}{d x} f{\\left(x \\right)} = m + \\frac{Q \\nu x}{12 E d} + \\frac{Q x}{15 E d} - \\frac{Q x^{3}}{12 E d^{3}} + \\frac{Q \\nu x^{2}}{4 E L d} + \\frac{Q x^{2}}{2 E L d}$"
      ],
      "text/plain": [
       "Eq(Derivative(f(x), x), m + Q*nu*x/(12*E*d) + Q*x/(15*E*d) - Q*x**3/(12*E*d**3) + Q*nu*x**2/(4*E*L*d) + Q*x**2/(2*E*L*d))"
      ]
     },
     "execution_count": 34,
     "metadata": {},
     "output_type": "execute_result"
    }
   ],
   "source": [
    "f = sym.Function('f')(x)\n",
    "m = sym.symbols('m')\n",
    "lhs = sym.diff(f,x)\n",
    "rhs = m+(Q*x)/(15*E*d)+(Q*nu*x)/(12*E*d)+(Q*nu*x**2)/(4*E*L*d)+(Q*x**2)/(2*E*L*d)-(Q*x**3)/(12*E*d**3)\n",
    "eq7 = sym.Eq(lhs,rhs)\n",
    "eq7"
   ]
  },
  {
   "cell_type": "code",
   "execution_count": 35,
   "metadata": {},
   "outputs": [
    {
     "data": {
      "text/latex": [
       "$\\displaystyle \\frac{d}{d y} g{\\left(y \\right)} = e + \\frac{Q \\nu y}{6 E L} + \\frac{19 Q y}{12 E L} + \\frac{Q y^{2}}{4 E L d} - \\frac{Q \\nu y^{3}}{6 E L d^{2}} - \\frac{Q y^{3}}{4 E L d^{3}}$"
      ],
      "text/plain": [
       "Eq(Derivative(g(y), y), e + Q*nu*y/(6*E*L) + 19*Q*y/(12*E*L) + Q*y**2/(4*E*L*d) - Q*nu*y**3/(6*E*L*d**2) - Q*y**3/(4*E*L*d**3))"
      ]
     },
     "execution_count": 35,
     "metadata": {},
     "output_type": "execute_result"
    }
   ],
   "source": [
    "g = sym.Function('g')(y)\n",
    "e = sym.symbols('e')\n",
    "lhs = sym.diff(g,y)\n",
    "rhs = e+(Q*nu*y)/(6*E*L)+(19*Q*y)/(12*E*L)-(Q*nu*y**3)/(6*E*L*d**2)-(Q*y**3)/(4*E*L*d**3)+(Q*y**2)/(4*E*L*d)\n",
    "eq8 = sym.Eq(lhs,rhs)\n",
    "eq8"
   ]
  },
  {
   "cell_type": "code",
   "execution_count": 36,
   "metadata": {},
   "outputs": [
    {
     "data": {
      "text/latex": [
       "$\\displaystyle f{\\left(x \\right)} = C_{1} + m x + \\frac{Q \\nu x^{2}}{24 E d} + \\frac{Q x^{2}}{30 E d} - \\frac{Q x^{4}}{48 E d^{3}} + \\frac{Q \\nu x^{3}}{12 E L d} + \\frac{Q x^{3}}{6 E L d}$"
      ],
      "text/plain": [
       "Eq(f(x), C1 + m*x + Q*nu*x**2/(24*E*d) + Q*x**2/(30*E*d) - Q*x**4/(48*E*d**3) + Q*nu*x**3/(12*E*L*d) + Q*x**3/(6*E*L*d))"
      ]
     },
     "execution_count": 36,
     "metadata": {},
     "output_type": "execute_result"
    }
   ],
   "source": [
    "sym.dsolve(eq7).expand()"
   ]
  },
  {
   "cell_type": "code",
   "execution_count": 37,
   "metadata": {},
   "outputs": [
    {
     "data": {
      "text/latex": [
       "$\\displaystyle g{\\left(y \\right)} = C_{1} + e y + \\frac{Q \\nu y^{2}}{12 E L} + \\frac{19 Q y^{2}}{24 E L} + \\frac{Q y^{3}}{12 E L d} - \\frac{Q \\nu y^{4}}{24 E L d^{2}} - \\frac{Q y^{4}}{16 E L d^{3}}$"
      ],
      "text/plain": [
       "Eq(g(y), C1 + e*y + Q*nu*y**2/(12*E*L) + 19*Q*y**2/(24*E*L) + Q*y**3/(12*E*L*d) - Q*nu*y**4/(24*E*L*d**2) - Q*y**4/(16*E*L*d**3))"
      ]
     },
     "execution_count": 37,
     "metadata": {},
     "output_type": "execute_result"
    }
   ],
   "source": [
    "sym.dsolve(eq8).expand()"
   ]
  },
  {
   "cell_type": "code",
   "execution_count": 38,
   "metadata": {},
   "outputs": [
    {
     "data": {
      "text/latex": [
       "$\\displaystyle \\ f(x) = H + m x + \\frac{Q \\nu x^{2}}{24 E d} + \\frac{Q x^{2}}{30 E d} - \\frac{Q x^{4}}{48 E d^{3}} + \\frac{Q \\nu x^{3}}{12 E L d} + \\frac{Q x^{3}}{6 E L d}$"
      ],
      "text/plain": [
       "<IPython.core.display.Math object>"
      ]
     },
     "metadata": {},
     "output_type": "display_data"
    }
   ],
   "source": [
    "H = sym.symbols('H')\n",
    "f = (H + m*x +(Q*x**2)/(30*E*d)+(Q*nu*x**2)/(24*E*d)+(Q*nu*x**3)/(12*E*L*d)+(Q*x**3)/(6*E*L*d)-(Q*x**4)/(48*E*d**3)).expand()\n",
    "\n",
    "display(Math(r'\\ f(x) = {}'.format(sym.latex(f))))"
   ]
  },
  {
   "cell_type": "code",
   "execution_count": 39,
   "metadata": {},
   "outputs": [
    {
     "data": {
      "text/latex": [
       "$\\displaystyle \\ g(y) = G + e y + \\frac{Q \\nu y^{2}}{12 E L} + \\frac{19 Q y^{2}}{24 E L} + \\frac{Q y^{3}}{12 E L d} - \\frac{Q \\nu y^{4}}{24 E L d^{2}} - \\frac{Q y^{4}}{16 E L d^{3}}$"
      ],
      "text/plain": [
       "<IPython.core.display.Math object>"
      ]
     },
     "metadata": {},
     "output_type": "display_data"
    }
   ],
   "source": [
    "G = sym.symbols('G')\n",
    "g = (G + e*y +(Q*nu*y**2)/(12*E*L)+(19*Q*y**2)/(24*E*L)+(Q*y**3)/(12*E*L*d)-(Q*nu*y**4)/(24*E*L*d**2)-(Q*y**4)/(16*E*L*d**3)).expand()\n",
    "\n",
    "display(Math(r'\\ g(y) = {}'.format(sym.latex(g))))"
   ]
  },
  {
   "cell_type": "code",
   "execution_count": 40,
   "metadata": {},
   "outputs": [
    {
     "data": {
      "text/latex": [
       "$\\displaystyle u{\\left(x,y \\right)} = - G - e y + \\frac{2 Q x}{45 E} - \\frac{2 Q x y}{15 E d} - \\frac{2 Q \\nu x y^{2}}{3 E d^{2}} + \\frac{2 Q x^{3}}{9 E d^{2}} - \\frac{4 Q x y^{2}}{3 E d^{2}} - \\frac{2 Q \\nu x y^{3}}{3 E d^{3}} + \\frac{2 Q x^{3} y}{3 E d^{3}} - \\frac{4 Q x y^{3}}{3 E d^{3}} + \\frac{Q \\nu x^{2}}{2 E L} - \\frac{Q \\nu y^{2}}{12 E L} - \\frac{Q x^{2}}{6 E L} - \\frac{19 Q y^{2}}{24 E L} - \\frac{Q x^{2} y}{E L d} - \\frac{Q y^{3}}{12 E L d} - \\frac{Q \\nu x^{2} y^{2}}{2 E L d^{2}} + \\frac{Q \\nu y^{4}}{24 E L d^{2}} + \\frac{Q x^{4}}{12 E L d^{2}} - \\frac{Q x^{2} y^{2}}{E L d^{2}} + \\frac{Q y^{4}}{16 E L d^{3}}$"
      ],
      "text/plain": [
       "Eq(u(x, y), -G - e*y + 2*Q*x/(45*E) - 2*Q*x*y/(15*E*d) - 2*Q*nu*x*y**2/(3*E*d**2) + 2*Q*x**3/(9*E*d**2) - 4*Q*x*y**2/(3*E*d**2) - 2*Q*nu*x*y**3/(3*E*d**3) + 2*Q*x**3*y/(3*E*d**3) - 4*Q*x*y**3/(3*E*d**3) + Q*nu*x**2/(2*E*L) - Q*nu*y**2/(12*E*L) - Q*x**2/(6*E*L) - 19*Q*y**2/(24*E*L) - Q*x**2*y/(E*L*d) - Q*y**3/(12*E*L*d) - Q*nu*x**2*y**2/(2*E*L*d**2) + Q*nu*y**4/(24*E*L*d**2) + Q*x**4/(12*E*L*d**2) - Q*x**2*y**2/(E*L*d**2) + Q*y**4/(16*E*L*d**3))"
      ]
     },
     "execution_count": 40,
     "metadata": {},
     "output_type": "execute_result"
    }
   ],
   "source": [
    "U_semi = (U_value.subs(f1(-y),-g)).expand()\n",
    "U_semi"
   ]
  },
  {
   "cell_type": "code",
   "execution_count": 41,
   "metadata": {},
   "outputs": [
    {
     "data": {
      "text/latex": [
       "$\\displaystyle v{\\left(x,y \\right)} = H + m x - \\frac{2 Q \\nu y}{45 E} + \\frac{Q \\nu x^{2}}{24 E d} + \\frac{Q \\nu y^{2}}{15 E d} + \\frac{Q x^{2}}{30 E d} - \\frac{2 Q \\nu x^{2} y}{3 E d^{2}} + \\frac{4 Q \\nu y^{3}}{9 E d^{2}} + \\frac{2 Q y^{3}}{9 E d^{2}} - \\frac{Q \\nu x^{2} y^{2}}{E d^{3}} + \\frac{Q \\nu y^{4}}{3 E d^{3}} - \\frac{Q x^{4}}{48 E d^{3}} + \\frac{Q y^{4}}{6 E d^{3}} + \\frac{Q \\nu x y}{3 E L} - \\frac{Q x y}{E L} + \\frac{Q \\nu x^{3}}{12 E L d} + \\frac{Q \\nu x y^{2}}{E L d} + \\frac{Q x^{3}}{6 E L d} - \\frac{Q \\nu x^{3} y}{3 E L d^{2}} + \\frac{2 Q \\nu x y^{3}}{3 E L d^{2}} + \\frac{Q x y^{3}}{3 E L d^{2}}$"
      ],
      "text/plain": [
       "Eq(v(x, y), H + m*x - 2*Q*nu*y/(45*E) + Q*nu*x**2/(24*E*d) + Q*nu*y**2/(15*E*d) + Q*x**2/(30*E*d) - 2*Q*nu*x**2*y/(3*E*d**2) + 4*Q*nu*y**3/(9*E*d**2) + 2*Q*y**3/(9*E*d**2) - Q*nu*x**2*y**2/(E*d**3) + Q*nu*y**4/(3*E*d**3) - Q*x**4/(48*E*d**3) + Q*y**4/(6*E*d**3) + Q*nu*x*y/(3*E*L) - Q*x*y/(E*L) + Q*nu*x**3/(12*E*L*d) + Q*nu*x*y**2/(E*L*d) + Q*x**3/(6*E*L*d) - Q*nu*x**3*y/(3*E*L*d**2) + 2*Q*nu*x*y**3/(3*E*L*d**2) + Q*x*y**3/(3*E*L*d**2))"
      ]
     },
     "execution_count": 41,
     "metadata": {},
     "output_type": "execute_result"
    }
   ],
   "source": [
    "V_semi = (V_value.subs(f2(x),f)).expand()\n",
    "V_semi"
   ]
  },
  {
   "cell_type": "markdown",
   "metadata": {},
   "source": [
    "<font color='green'>At $x=L$, $y=-d/2$: $u=0$ , $v=0$ , $\\begin{align} \\frac{\\partial v}{\\partial x} =0 \\end{align}$ ,$\\begin{align} \\frac{\\partial u}{\\partial y}=0 \\end{align}$"
   ]
  },
  {
   "cell_type": "code",
   "execution_count": 42,
   "metadata": {},
   "outputs": [
    {
     "data": {
      "text/latex": [
       "$\\displaystyle \\frac{\\frac{E L d^{2} \\left(- 2 G + d e\\right)}{2} - \\frac{L^{4} Q}{36} + \\frac{L^{2} Q d^{2} \\left(21 \\nu + 2\\right)}{72} + \\frac{Q d^{3} \\left(- 14 d \\nu - 144 d + 3\\right)}{768}}{E L d^{2}} = 0$"
      ],
      "text/plain": [
       "Eq((E*L*d**2*(-2*G + d*e)/2 - L**4*Q/36 + L**2*Q*d**2*(21*nu + 2)/72 + Q*d**3*(-14*d*nu - 144*d + 3)/768)/(E*L*d**2), 0)"
      ]
     },
     "execution_count": 42,
     "metadata": {},
     "output_type": "execute_result"
    }
   ],
   "source": [
    "lhs = 0\n",
    "rhs = U_semi.rhs.subs([(x,L),(y,-d/2)])\n",
    "eq9 = sym.Eq(lhs,rhs)\n",
    "eq9.simplify()"
   ]
  },
  {
   "cell_type": "code",
   "execution_count": 43,
   "metadata": {},
   "outputs": [
    {
     "data": {
      "text/latex": [
       "$\\displaystyle 0 = H + L m - \\frac{L^{4} Q}{48 E d^{3}} + \\frac{3 L^{2} Q \\nu}{8 E d} + \\frac{L^{2} Q}{5 E d} + \\frac{Q d \\nu}{240 E} + \\frac{127 Q d}{288 E}$"
      ],
      "text/plain": [
       "Eq(0, H + L*m - L**4*Q/(48*E*d**3) + 3*L**2*Q*nu/(8*E*d) + L**2*Q/(5*E*d) + Q*d*nu/(240*E) + 127*Q*d/(288*E))"
      ]
     },
     "execution_count": 43,
     "metadata": {},
     "output_type": "execute_result"
    }
   ],
   "source": [
    "lhs = 0\n",
    "rhs = V_semi.rhs.subs([(x,L),(y,-d/2)])\n",
    "eq10 = sym.Eq(lhs,rhs)\n",
    "eq10"
   ]
  },
  {
   "cell_type": "code",
   "execution_count": 44,
   "metadata": {},
   "outputs": [
    {
     "data": {
      "text/latex": [
       "$\\displaystyle H = - L m + \\frac{L^{4} Q}{48 E d^{3}} - \\frac{L^{2} Q \\nu}{8 E d} - \\frac{L^{2} Q}{5 E d}$"
      ],
      "text/plain": [
       "Eq(H, -L*m + L**4*Q/(48*E*d**3) - L**2*Q*nu/(8*E*d) - L**2*Q/(5*E*d))"
      ]
     },
     "execution_count": 44,
     "metadata": {},
     "output_type": "execute_result"
    }
   ],
   "source": [
    "lhs = H\n",
    "rhs = -L*m+(L**4*Q)/(48*E*d**3)-(L**2*Q*nu)/(8*E*d)-(L**2*Q)/(5*E*d)\n",
    "eq11 = sym.Eq(lhs,rhs)\n",
    "eq11"
   ]
  },
  {
   "cell_type": "code",
   "execution_count": 45,
   "metadata": {},
   "outputs": [
    {
     "data": {
      "text/latex": [
       "$\\displaystyle v{\\left(x,- \\frac{d}{2} \\right)} = - L m + m x + \\frac{L^{4} Q}{48 E d^{3}} - \\frac{L^{2} Q \\nu}{8 E d} - \\frac{L^{2} Q}{5 E d} + \\frac{Q d \\nu}{240 E} - \\frac{5 Q d}{288 E} + \\frac{Q \\nu x^{2}}{8 E d} + \\frac{Q x^{2}}{30 E d} - \\frac{Q x^{4}}{48 E d^{3}} + \\frac{11 Q d x}{24 E L} + \\frac{Q \\nu x^{3}}{4 E L d} + \\frac{Q x^{3}}{6 E L d}$"
      ],
      "text/plain": [
       "Eq(v(x, -d/2), -L*m + m*x + L**4*Q/(48*E*d**3) - L**2*Q*nu/(8*E*d) - L**2*Q/(5*E*d) + Q*d*nu/(240*E) - 5*Q*d/(288*E) + Q*nu*x**2/(8*E*d) + Q*x**2/(30*E*d) - Q*x**4/(48*E*d**3) + 11*Q*d*x/(24*E*L) + Q*nu*x**3/(4*E*L*d) + Q*x**3/(6*E*L*d))"
      ]
     },
     "execution_count": 45,
     "metadata": {},
     "output_type": "execute_result"
    }
   ],
   "source": [
    "V_semi1 = (V_semi.subs([(H,(-L*m+(L**4*Q)/(48*E*d**3)-(L**2*Q*nu)/(8*E*d)-(L**2*Q)/(5*E*d))),(y,-d/2)]))\n",
    "V_semi1"
   ]
  },
  {
   "cell_type": "code",
   "execution_count": 46,
   "metadata": {},
   "outputs": [
    {
     "data": {
      "text/latex": [
       "$\\displaystyle m + \\frac{Q \\nu x}{12 E d} + \\frac{Q x}{15 E d} - \\frac{Q x^{3}}{12 E d^{3}} + \\frac{Q \\nu x^{2}}{4 E L d} + \\frac{Q x^{2}}{2 E L d} = 0$"
      ],
      "text/plain": [
       "Eq(m + Q*nu*x/(12*E*d) + Q*x/(15*E*d) - Q*x**3/(12*E*d**3) + Q*nu*x**2/(4*E*L*d) + Q*x**2/(2*E*L*d), 0)"
      ]
     },
     "execution_count": 46,
     "metadata": {},
     "output_type": "execute_result"
    }
   ],
   "source": [
    "lhs = sym.diff(-L*m+m*x+(L**4*Q)/(48*E*d**3)-(L**2*Q*nu)/(8*E*d)-(L**2*Q)/(5*E*d)+(Q*nu*x**2)/(24*E*d)+(Q*x**2)/(30*E*d)-(Q*x**4)/(48*E*d**3)+(Q*nu*x**3)/(12*E*L*d)+(Q*x**3)/(6*E*L*d),x)\n",
    "rhs = 0\n",
    "eq12 = sym.Eq(lhs,rhs)\n",
    "eq12"
   ]
  },
  {
   "cell_type": "code",
   "execution_count": 47,
   "metadata": {},
   "outputs": [
    {
     "data": {
      "text/latex": [
       "$\\displaystyle e = \\frac{Q \\nu x}{12 E d} + \\frac{Q x}{15 E d} - \\frac{Q x^{3}}{12 E d^{3}} + \\frac{Q \\nu x^{2}}{4 E L d} + \\frac{Q x^{2}}{2 E L d}$"
      ],
      "text/plain": [
       "Eq(e, Q*nu*x/(12*E*d) + Q*x/(15*E*d) - Q*x**3/(12*E*d**3) + Q*nu*x**2/(4*E*L*d) + Q*x**2/(2*E*L*d))"
      ]
     },
     "execution_count": 47,
     "metadata": {},
     "output_type": "execute_result"
    }
   ],
   "source": [
    "lhs = e\n",
    "rhs = eq12.lhs - m\n",
    "eq13 = sym.Eq(lhs,rhs)\n",
    "eq13"
   ]
  },
  {
   "cell_type": "code",
   "execution_count": 48,
   "metadata": {},
   "outputs": [
    {
     "data": {
      "text/latex": [
       "$\\displaystyle \\ H = \\frac{Q \\left(30 L^{4} - 540 L^{2} d^{2} \\nu - 288 L^{2} d^{2} + 120 L d^{2} \\nu x + 96 L d^{2} x - 120 L x^{3} - 6 d^{4} \\nu - 635 d^{4} + 360 d^{2} \\nu x^{2} + 720 d^{2} x^{2}\\right)}{1440 E d^{3}}$"
      ],
      "text/plain": [
       "<IPython.core.display.Math object>"
      ]
     },
     "metadata": {},
     "output_type": "display_data"
    },
    {
     "data": {
      "text/latex": [
       "$\\displaystyle \\ G = \\frac{Q \\left(- 320 L^{4} + 3360 L^{2} d^{2} \\nu + 320 L^{2} d^{2} + 480 L d^{2} \\nu x + 384 L d^{2} x - 480 L x^{3} - 210 d^{4} \\nu - 2160 d^{4} + 45 d^{3} + 1440 d^{2} \\nu x^{2} + 2880 d^{2} x^{2}\\right)}{11520 E L d^{2}}$"
      ],
      "text/plain": [
       "<IPython.core.display.Math object>"
      ]
     },
     "metadata": {},
     "output_type": "display_data"
    },
    {
     "data": {
      "text/latex": [
       "$\\displaystyle \\ m = \\frac{Q x \\left(- 5 L d^{2} \\nu - 4 L d^{2} + 5 L x^{2} - 15 d^{2} \\nu x - 30 d^{2} x\\right)}{60 E L d^{3}}$"
      ],
      "text/plain": [
       "<IPython.core.display.Math object>"
      ]
     },
     "metadata": {},
     "output_type": "display_data"
    },
    {
     "data": {
      "text/latex": [
       "$\\displaystyle \\ e = \\frac{Q x \\left(5 L d^{2} \\nu + 4 L d^{2} - 5 L x^{2} + 15 d^{2} \\nu x + 30 d^{2} x\\right)}{60 E L d^{3}}$"
      ],
      "text/plain": [
       "<IPython.core.display.Math object>"
      ]
     },
     "metadata": {},
     "output_type": "display_data"
    }
   ],
   "source": [
    "soln, = sym.linsolve([eq9,eq10,eq12,eq13],[H,G,m,e])\n",
    "\n",
    "Hsoln = soln[0]\n",
    "Gsoln = soln[1]\n",
    "msoln = soln[2]\n",
    "esoln = soln[3]\n",
    "\n",
    "display(Math(r'\\ H = {}'.format(sym.latex(Hsoln))))\n",
    "display(Math(r'\\ G = {}'.format(sym.latex(Gsoln))))\n",
    "display(Math(r'\\ m = {}'.format(sym.latex(msoln))))\n",
    "display(Math(r'\\ e = {}'.format(sym.latex(esoln))))"
   ]
  },
  {
   "cell_type": "code",
   "execution_count": 49,
   "metadata": {},
   "outputs": [
    {
     "data": {
      "text/latex": [
       "$\\displaystyle u{\\left(x,y \\right)} = \\frac{L^{3} Q}{36 E d^{2}} - \\frac{7 L Q \\nu}{24 E} - \\frac{L Q}{36 E} - \\frac{Q \\nu x}{24 E} + \\frac{Q x}{90 E} - \\frac{Q \\nu x y}{12 E d} - \\frac{Q x y}{5 E d} - \\frac{2 Q \\nu x y^{2}}{3 E d^{2}} + \\frac{19 Q x^{3}}{72 E d^{2}} - \\frac{4 Q x y^{2}}{3 E d^{2}} - \\frac{2 Q \\nu x y^{3}}{3 E d^{3}} + \\frac{3 Q x^{3} y}{4 E d^{3}} - \\frac{4 Q x y^{3}}{3 E d^{3}} + \\frac{7 Q d^{2} \\nu}{384 E L} + \\frac{3 Q d^{2}}{16 E L} - \\frac{Q d}{256 E L} + \\frac{3 Q \\nu x^{2}}{8 E L} - \\frac{Q \\nu y^{2}}{12 E L} - \\frac{5 Q x^{2}}{12 E L} - \\frac{19 Q y^{2}}{24 E L} - \\frac{Q \\nu x^{2} y}{4 E L d} - \\frac{3 Q x^{2} y}{2 E L d} - \\frac{Q y^{3}}{12 E L d} - \\frac{Q \\nu x^{2} y^{2}}{2 E L d^{2}} + \\frac{Q \\nu y^{4}}{24 E L d^{2}} + \\frac{Q x^{4}}{12 E L d^{2}} - \\frac{Q x^{2} y^{2}}{E L d^{2}} + \\frac{Q y^{4}}{16 E L d^{3}}$"
      ],
      "text/plain": [
       "Eq(u(x, y), L**3*Q/(36*E*d**2) - 7*L*Q*nu/(24*E) - L*Q/(36*E) - Q*nu*x/(24*E) + Q*x/(90*E) - Q*nu*x*y/(12*E*d) - Q*x*y/(5*E*d) - 2*Q*nu*x*y**2/(3*E*d**2) + 19*Q*x**3/(72*E*d**2) - 4*Q*x*y**2/(3*E*d**2) - 2*Q*nu*x*y**3/(3*E*d**3) + 3*Q*x**3*y/(4*E*d**3) - 4*Q*x*y**3/(3*E*d**3) + 7*Q*d**2*nu/(384*E*L) + 3*Q*d**2/(16*E*L) - Q*d/(256*E*L) + 3*Q*nu*x**2/(8*E*L) - Q*nu*y**2/(12*E*L) - 5*Q*x**2/(12*E*L) - 19*Q*y**2/(24*E*L) - Q*nu*x**2*y/(4*E*L*d) - 3*Q*x**2*y/(2*E*L*d) - Q*y**3/(12*E*L*d) - Q*nu*x**2*y**2/(2*E*L*d**2) + Q*nu*y**4/(24*E*L*d**2) + Q*x**4/(12*E*L*d**2) - Q*x**2*y**2/(E*L*d**2) + Q*y**4/(16*E*L*d**3))"
      ]
     },
     "metadata": {},
     "output_type": "display_data"
    }
   ],
   "source": [
    "U_final = U_semi.subs([(H,Hsoln),(G,Gsoln),(e,esoln)]).expand()\n",
    "\n",
    "display(U_final)"
   ]
  },
  {
   "cell_type": "code",
   "execution_count": 50,
   "metadata": {},
   "outputs": [
    {
     "data": {
      "text/latex": [
       "$\\displaystyle v{\\left(x,y \\right)} = \\frac{L^{4} Q}{48 E d^{3}} - \\frac{3 L^{2} Q \\nu}{8 E d} - \\frac{L^{2} Q}{5 E d} + \\frac{L Q \\nu x}{12 E d} + \\frac{L Q x}{15 E d} - \\frac{L Q x^{3}}{12 E d^{3}} - \\frac{Q d \\nu}{240 E} - \\frac{127 Q d}{288 E} - \\frac{2 Q \\nu y}{45 E} + \\frac{5 Q \\nu x^{2}}{24 E d} + \\frac{Q \\nu y^{2}}{15 E d} + \\frac{7 Q x^{2}}{15 E d} - \\frac{2 Q \\nu x^{2} y}{3 E d^{2}} + \\frac{4 Q \\nu y^{3}}{9 E d^{2}} + \\frac{2 Q y^{3}}{9 E d^{2}} - \\frac{Q \\nu x^{2} y^{2}}{E d^{3}} + \\frac{Q \\nu y^{4}}{3 E d^{3}} + \\frac{Q x^{4}}{16 E d^{3}} + \\frac{Q y^{4}}{6 E d^{3}} + \\frac{Q \\nu x y}{3 E L} - \\frac{Q x y}{E L} - \\frac{Q \\nu x^{3}}{6 E L d} + \\frac{Q \\nu x y^{2}}{E L d} - \\frac{Q x^{3}}{3 E L d} - \\frac{Q \\nu x^{3} y}{3 E L d^{2}} + \\frac{2 Q \\nu x y^{3}}{3 E L d^{2}} + \\frac{Q x y^{3}}{3 E L d^{2}}$"
      ],
      "text/plain": [
       "Eq(v(x, y), L**4*Q/(48*E*d**3) - 3*L**2*Q*nu/(8*E*d) - L**2*Q/(5*E*d) + L*Q*nu*x/(12*E*d) + L*Q*x/(15*E*d) - L*Q*x**3/(12*E*d**3) - Q*d*nu/(240*E) - 127*Q*d/(288*E) - 2*Q*nu*y/(45*E) + 5*Q*nu*x**2/(24*E*d) + Q*nu*y**2/(15*E*d) + 7*Q*x**2/(15*E*d) - 2*Q*nu*x**2*y/(3*E*d**2) + 4*Q*nu*y**3/(9*E*d**2) + 2*Q*y**3/(9*E*d**2) - Q*nu*x**2*y**2/(E*d**3) + Q*nu*y**4/(3*E*d**3) + Q*x**4/(16*E*d**3) + Q*y**4/(6*E*d**3) + Q*nu*x*y/(3*E*L) - Q*x*y/(E*L) - Q*nu*x**3/(6*E*L*d) + Q*nu*x*y**2/(E*L*d) - Q*x**3/(3*E*L*d) - Q*nu*x**3*y/(3*E*L*d**2) + 2*Q*nu*x*y**3/(3*E*L*d**2) + Q*x*y**3/(3*E*L*d**2))"
      ]
     },
     "metadata": {},
     "output_type": "display_data"
    }
   ],
   "source": [
    "V_final = V_semi.subs([(H,Hsoln),(G,Gsoln),(m,msoln)]).expand()\n",
    "\n",
    "display(V_final)"
   ]
  },
  {
   "cell_type": "markdown",
   "metadata": {},
   "source": [
    "<font color='blue'> Above Shown expressions of U and V are final. We can verify result by substituting numerical value of load, length, depth but it should be of unit width."
   ]
  },
  {
   "cell_type": "markdown",
   "metadata": {},
   "source": [
    "<h3><font color='green'>Distribution of Work:</font></h3><br>\n",
    "(1) $Hitesh Patil$  - Finding a problem statement, writing a code in jypyter notebook and assigning work to group members<br>\n",
    "\n",
    "(2) $Subal Sagar$   - Finding a problem statement, to design the problem analytically and assisting in jupyter notebook<br>\n",
    "\n",
    "(3) $Baliram Kumar$ - Finding a problem statement, to design the problem analytically and documentation of project\n",
    "\n",
    "<h3><font color='green'>Changes in previous idea:</font></h3><br>\n",
    "In our initial idea we took triangular plate with uniformly distributed load and uniformly varying load but we were unable to find boundary conditon for triangular plate. So later on we only changed our beam type to uniform."
   ]
  },
  {
   "cell_type": "markdown",
   "metadata": {},
   "source": [
    "<font color='green'><center><font size=\"10\">Thank You"
   ]
  }
 ],
 "metadata": {
  "kernelspec": {
   "display_name": "Python 3",
   "language": "python",
   "name": "python3"
  },
  "language_info": {
   "codemirror_mode": {
    "name": "ipython",
    "version": 3
   },
   "file_extension": ".py",
   "mimetype": "text/x-python",
   "name": "python",
   "nbconvert_exporter": "python",
   "pygments_lexer": "ipython3",
   "version": "3.8.5"
  }
 },
 "nbformat": 4,
 "nbformat_minor": 4
}
