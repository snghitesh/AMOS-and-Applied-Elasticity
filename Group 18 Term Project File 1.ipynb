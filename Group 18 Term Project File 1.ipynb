{
 "cells": [
  {
   "attachments": {
    "problem%201%20final.png": {
     "image/png": "[encoded data removed]"
    }
   },
   "cell_type": "markdown",
   "metadata": {},
   "source": [
    "<h1><center> <font color='green'>Term Project - Group No: 18</font> </center></h1>\n",
    "<h1><center> <font color='blue'>Problem 1:Cantilever Beam Subjected to Uniformly Distributed Load</font> </center></h1>\n",
    "\n",
    "1. <font color='green'>Group Members:</font>\n",
    "    \n",
    "    (1) Hitesh Patil (20ME63R21)<br>\n",
    "    (2) Subal Sagar (20ME63R20)<br>\n",
    "    (3) Baliram Kumar (20ME63R07)<br>\n",
    "   \n",
    "   \n",
    "2. <font color='green'>Problem Statement:</font> We have taken a Cantilever Beam with $length = l$, $height = d$ and  $unit$ $width$  is taken subjected to uniformly distributed load of intensity $q_0$ $N/m$ all over the span of beam from free end to fixed end as shown in figure below. The cente of the axes is taken at free end of the beam on upper face of beam with positive $x$ axis pointing towards fixed end and positive $y$ axis directing towards upward.\n",
    "\n",
    " ![problem%201%20final.png](attachment:problem%201%20final.png)\n",
    "\n",
    "   Following analysis was undertaken on the given problem statement:\n",
    "            \n",
    "   (a) Calculation of normal and shear stress by assuming a 5th degree polynomial Airy's Stress Function with assuming general function at the beginning \\begin{gather}\\sigma_{xx} ,\\ \\sigma_{xy} ,\\ \\sigma_{yy}\\end{gather} \n",
    "            \n",
    "   (b) Calculation of strains using Hooke's law \\begin{gather} \\varepsilon_{xx},\\ \\varepsilon_{xy},\\ \\varepsilon_{yy} \\end{gather} \n",
    "   \n",
    "   (c) Finding a displacements values $u,v$ by strain displacement realations.\n",
    "\\begin{align}\n",
    "u(x,y)\\\\\n",
    "v(x,y)\n",
    "\\end{align}\n",
    "\n",
    "\n",
    "\n",
    "<font color='green'>References used:</font>\n",
    "\n",
    "    \n",
    "    (a) \"Elasticity Theory, applications and numericals\" by Martin H.Sadd<br>\n",
    "    (a) \"Theory of Elasticity\" by S. Timsoshenko and J.N. Goodier\n",
    "\n",
    "<font color='green'>Assumption:</font><br>\n",
    "    (a) Material should be homogeneous and isotropic<br>\n",
    "    (b) Material should obey Hook's law<br>\n",
    "    (c) Member is assumed to be prismatic<br>\n",
    "    (d) Self Weight of beam is neglected<br>\n",
    "    (e) Member is assumed to be ubder static equlibrium conditions"
   ]
  },
  {
   "cell_type": "markdown",
   "metadata": {},
   "source": [
    "\n",
    "\n",
    "First we import Symbolic Python package and give a variable name as sym for further iteration"
   ]
  },
  {
   "cell_type": "code",
   "execution_count": 1,
   "metadata": {},
   "outputs": [],
   "source": [
    "import sympy as sym"
   ]
  },
  {
   "cell_type": "markdown",
   "metadata": {},
   "source": [
    "We define x and y symbol in further step"
   ]
  },
  {
   "cell_type": "code",
   "execution_count": 2,
   "metadata": {},
   "outputs": [],
   "source": [
    "x,y = sym.symbols('x,y')"
   ]
  },
  {
   "cell_type": "markdown",
   "metadata": {},
   "source": [
    "Now we define an 2nd order polynomial airy stress function"
   ]
  },
  {
   "cell_type": "code",
   "execution_count": 3,
   "metadata": {},
   "outputs": [
    {
     "data": {
      "text/latex": [
       "$\\displaystyle A_{02} y^{2} + A_{11} x y + A_{20} x^{2}$"
      ],
      "text/plain": [
       "A_02*y**2 + A_11*x*y + A_20*x**2"
      ]
     },
     "metadata": {},
     "output_type": "display_data"
    }
   ],
   "source": [
    "A20,A11, A02 = sym.symbols('A_20,A_11,A_02')\n",
    "airy2 = A20*x**2 + A11*x*y + A02*y**2\n",
    "display(airy2)"
   ]
  },
  {
   "cell_type": "markdown",
   "metadata": {},
   "source": [
    "Now we define an 3rd order polynomial airy stress function"
   ]
  },
  {
   "cell_type": "code",
   "execution_count": 4,
   "metadata": {},
   "outputs": [
    {
     "data": {
      "text/latex": [
       "$\\displaystyle A_{03} y^{3} + A_{12} x y^{2} + A_{21} x^{2} y + A_{30} x^{3}$"
      ],
      "text/plain": [
       "A_03*y**3 + A_12*x*y**2 + A_21*x**2*y + A_30*x**3"
      ]
     },
     "metadata": {},
     "output_type": "display_data"
    }
   ],
   "source": [
    "A30,A21,A12,A03 = sym.symbols('A_30,A_21,A_12,A_03')\n",
    "airy3 = A30*x**3 + A21*x**2*y + A12*x*y**2 + A03*y**3\n",
    "display(airy3)"
   ]
  },
  {
   "cell_type": "markdown",
   "metadata": {},
   "source": [
    "Now we define an 4th order polynomial airy stress function"
   ]
  },
  {
   "cell_type": "code",
   "execution_count": 5,
   "metadata": {},
   "outputs": [
    {
     "data": {
      "text/latex": [
       "$\\displaystyle A_{04} y^{4} + A_{13} x y^{3} + A_{22} x^{2} y^{2} + A_{31} x^{3} y + A_{40} x^{4}$"
      ],
      "text/plain": [
       "A_04*y**4 + A_13*x*y**3 + A_22*x**2*y**2 + A_31*x**3*y + A_40*x**4"
      ]
     },
     "metadata": {},
     "output_type": "display_data"
    }
   ],
   "source": [
    "A40,A31,A22,A13,A04 = sym.symbols('A_40,A_31,A_22,A_13,A_04')\n",
    "airy4 = A40*x**4 + A31*x**3*y + A22*x**2*y**2 + A13*x*y**3 + A04*y**4\n",
    "display(airy4)"
   ]
  },
  {
   "cell_type": "markdown",
   "metadata": {},
   "source": [
    "Now we define an 5th order polynomial airy stress function"
   ]
  },
  {
   "cell_type": "code",
   "execution_count": 6,
   "metadata": {},
   "outputs": [
    {
     "data": {
      "text/latex": [
       "$\\displaystyle A_{05} y^{5} + A_{14} x y^{4} + A_{23} x^{2} y^{3} + A_{32} x^{3} y^{2} + A_{41} x^{4} y + A_{50} x^{5}$"
      ],
      "text/plain": [
       "A_05*y**5 + A_14*x*y**4 + A_23*x**2*y**3 + A_32*x**3*y**2 + A_41*x**4*y + A_50*x**5"
      ]
     },
     "metadata": {},
     "output_type": "display_data"
    }
   ],
   "source": [
    "A50,A41,A32,A23,A14,A05 = sym.symbols('A_50,A_41,A_32,A_23,A_14,A_05')\n",
    "airy5 = A50*x**5 + A41*x**4*y + A32*x**3*y**2 + A23*x**2*y**3 + A14*x*y**4 + A05*y**5\n",
    "display(airy5)"
   ]
  },
  {
   "cell_type": "code",
   "execution_count": 7,
   "metadata": {},
   "outputs": [],
   "source": [
    "from IPython.display import Math, Latex"
   ]
  },
  {
   "cell_type": "markdown",
   "metadata": {},
   "source": [
    "Now we define $\\phi$ as our airy stress function with general coefficients by adding 2, 3, 4, 5 order polynomial "
   ]
  },
  {
   "cell_type": "code",
   "execution_count": 8,
   "metadata": {},
   "outputs": [
    {
     "data": {
      "text/latex": [
       "$\\displaystyle \\phi = A_{02} y^{2} + A_{03} y^{3} + A_{04} y^{4} + A_{05} y^{5} + A_{11} x y + A_{12} x y^{2} + A_{13} x y^{3} + A_{14} x y^{4} + A_{20} x^{2} + A_{21} x^{2} y + A_{22} x^{2} y^{2} + A_{23} x^{2} y^{3} + A_{30} x^{3} + A_{31} x^{3} y + A_{32} x^{3} y^{2} + A_{40} x^{4} + A_{41} x^{4} y + A_{50} x^{5}$"
      ],
      "text/plain": [
       "<IPython.core.display.Math object>"
      ]
     },
     "metadata": {},
     "output_type": "display_data"
    }
   ],
   "source": [
    "phi= airy2 + airy3 + airy4 + airy5\n",
    "display(Math(r'\\phi = {}'.format(sym.latex(phi))))"
   ]
  },
  {
   "cell_type": "markdown",
   "metadata": {},
   "source": [
    "<font color='green'>Now we solving for biharmonic equation $\\nabla{^4}$ = 0</font>"
   ]
  },
  {
   "cell_type": "code",
   "execution_count": 9,
   "metadata": {},
   "outputs": [
    {
     "data": {
      "text/latex": [
       "$\\displaystyle 24 A_{04} + 120 A_{05} y + 24 A_{14} x + 8 A_{22} + 24 A_{23} y + 24 A_{32} x + 24 A_{40} + 24 A_{41} y + 120 A_{50} x$"
      ],
      "text/plain": [
       "24*A_04 + 120*A_05*y + 24*A_14*x + 8*A_22 + 24*A_23*y + 24*A_32*x + 24*A_40 + 24*A_41*y + 120*A_50*x"
      ]
     },
     "metadata": {},
     "output_type": "display_data"
    }
   ],
   "source": [
    "biharm = (sym.diff(phi,(x,4))+2*sym.diff(phi,x,x,y,y)+sym.diff(phi,(y,4))).expand()\n",
    "display(biharm)"
   ]
  },
  {
   "cell_type": "markdown",
   "metadata": {},
   "source": [
    "In first condition terms containing x are collected and equated to zero. Similarly y terms and constant terms equated to zero"
   ]
  },
  {
   "cell_type": "code",
   "execution_count": 10,
   "metadata": {},
   "outputs": [
    {
     "data": {
      "text/latex": [
       "$\\displaystyle 24 A_{14} + 24 A_{32} + 120 A_{50} = 0$"
      ],
      "text/plain": [
       "Eq(24*A_14 + 24*A_32 + 120*A_50, 0)"
      ]
     },
     "metadata": {},
     "output_type": "display_data"
    },
    {
     "data": {
      "text/latex": [
       "$\\displaystyle 120 A_{05} + 24 A_{23} + 24 A_{41} = 0$"
      ],
      "text/plain": [
       "Eq(120*A_05 + 24*A_23 + 24*A_41, 0)"
      ]
     },
     "metadata": {},
     "output_type": "display_data"
    },
    {
     "data": {
      "text/latex": [
       "$\\displaystyle 24 A_{04} + 8 A_{22} + 24 A_{40} = 0$"
      ],
      "text/plain": [
       "Eq(24*A_04 + 8*A_22 + 24*A_40, 0)"
      ]
     },
     "metadata": {},
     "output_type": "display_data"
    }
   ],
   "source": [
    "biharm_x = biharm.coeff(x)\n",
    "cond1 = sym.Eq(biharm_x,0)\n",
    "\n",
    "biharm_y = biharm.coeff(y)\n",
    "cond2 = sym.Eq(biharm_y,0)\n",
    "\n",
    "biharm_0 = biharm.subs([(x,0),(y,0)])\n",
    "cond3 = sym.Eq(biharm_0,0)\n",
    "\n",
    "display(cond1,cond2,cond3)"
   ]
  },
  {
   "cell_type": "markdown",
   "metadata": {},
   "source": [
    "Now, we define  $\\sigma_{xx}$ , $ \\sigma_{yy}$ , $ \\sigma_{xy} $ and diplay it in next step"
   ]
  },
  {
   "cell_type": "code",
   "execution_count": 11,
   "metadata": {},
   "outputs": [
    {
     "data": {
      "text/latex": [
       "$\\displaystyle 2 A_{02} + 6 A_{03} y + 12 A_{04} y^{2} + 20 A_{05} y^{3} + 2 A_{12} x + 6 A_{13} x y + 12 A_{14} x y^{2} + 2 A_{22} x^{2} + 6 A_{23} x^{2} y + 2 A_{32} x^{3}$"
      ],
      "text/plain": [
       "2*A_02 + 6*A_03*y + 12*A_04*y**2 + 20*A_05*y**3 + 2*A_12*x + 6*A_13*x*y + 12*A_14*x*y**2 + 2*A_22*x**2 + 6*A_23*x**2*y + 2*A_32*x**3"
      ]
     },
     "metadata": {},
     "output_type": "display_data"
    },
    {
     "data": {
      "text/latex": [
       "$\\displaystyle 2 A_{20} + 2 A_{21} y + 2 A_{22} y^{2} + 2 A_{23} y^{3} + 6 A_{30} x + 6 A_{31} x y + 6 A_{32} x y^{2} + 12 A_{40} x^{2} + 12 A_{41} x^{2} y + 20 A_{50} x^{3}$"
      ],
      "text/plain": [
       "2*A_20 + 2*A_21*y + 2*A_22*y**2 + 2*A_23*y**3 + 6*A_30*x + 6*A_31*x*y + 6*A_32*x*y**2 + 12*A_40*x**2 + 12*A_41*x**2*y + 20*A_50*x**3"
      ]
     },
     "metadata": {},
     "output_type": "display_data"
    },
    {
     "data": {
      "text/latex": [
       "$\\displaystyle - A_{11} - 2 A_{12} y - 3 A_{13} y^{2} - 4 A_{14} y^{3} - 2 A_{21} x - 4 A_{22} x y - 6 A_{23} x y^{2} - 3 A_{31} x^{2} - 6 A_{32} x^{2} y - 4 A_{41} x^{3}$"
      ],
      "text/plain": [
       "-A_11 - 2*A_12*y - 3*A_13*y**2 - 4*A_14*y**3 - 2*A_21*x - 4*A_22*x*y - 6*A_23*x*y**2 - 3*A_31*x**2 - 6*A_32*x**2*y - 4*A_41*x**3"
      ]
     },
     "metadata": {},
     "output_type": "display_data"
    }
   ],
   "source": [
    "sigmaxx = (sym.diff(phi,(y,2))).expand()\n",
    "sigmayy = (sym.diff(phi,(x,2))).expand()\n",
    "sigmaxy = -sym.diff(phi,x,y)\n",
    "display(sigmaxx,sigmayy,sigmaxy)"
   ]
  },
  {
   "cell_type": "code",
   "execution_count": 12,
   "metadata": {},
   "outputs": [
    {
     "data": {
      "text/latex": [
       "$\\displaystyle \\sigma_{xx} = 2 A_{02} + 6 A_{03} y + 12 A_{04} y^{2} + 20 A_{05} y^{3} + 2 A_{12} x + 6 A_{13} x y + 12 A_{14} x y^{2} + 2 A_{22} x^{2} + 6 A_{23} x^{2} y + 2 A_{32} x^{3}$"
      ],
      "text/plain": [
       "<IPython.core.display.Math object>"
      ]
     },
     "metadata": {},
     "output_type": "display_data"
    },
    {
     "data": {
      "text/latex": [
       "$\\displaystyle \\sigma_{yy} = 2 A_{20} + 2 A_{21} y + 2 A_{22} y^{2} + 2 A_{23} y^{3} + 6 A_{30} x + 6 A_{31} x y + 6 A_{32} x y^{2} + 12 A_{40} x^{2} + 12 A_{41} x^{2} y + 20 A_{50} x^{3}$"
      ],
      "text/plain": [
       "<IPython.core.display.Math object>"
      ]
     },
     "metadata": {},
     "output_type": "display_data"
    },
    {
     "data": {
      "text/latex": [
       "$\\displaystyle \\sigma_{xy} = - A_{11} - 2 A_{12} y - 3 A_{13} y^{2} - 4 A_{14} y^{3} - 2 A_{21} x - 4 A_{22} x y - 6 A_{23} x y^{2} - 3 A_{31} x^{2} - 6 A_{32} x^{2} y - 4 A_{41} x^{3}$"
      ],
      "text/plain": [
       "<IPython.core.display.Math object>"
      ]
     },
     "metadata": {},
     "output_type": "display_data"
    }
   ],
   "source": [
    "display(Math(r'\\sigma_{{xx}} = {}'.format(sym.latex(sigmaxx))))\n",
    "display(Math(r'\\sigma_{{yy}} = {}'.format(sym.latex(sigmayy))))\n",
    "display(Math(r'\\sigma_{{xy}} = {}'.format(sym.latex(sigmaxy))))"
   ]
  },
  {
   "cell_type": "code",
   "execution_count": 13,
   "metadata": {},
   "outputs": [],
   "source": [
    "d,l = sym.symbols('d,l',positive=True)\n",
    "q0 = sym.symbols('q_0',positive=True)"
   ]
  },
  {
   "cell_type": "markdown",
   "metadata": {},
   "source": [
    "\n",
    "<font color='green'> Now we apply conditions: at $y=0$ ,$\\sigma_{yy} = -q_0$ and $\\sigma_{xy} = 0$ </font>"
   ]
  },
  {
   "cell_type": "code",
   "execution_count": 14,
   "metadata": {},
   "outputs": [
    {
     "data": {
      "text/latex": [
       "$\\displaystyle 2 A_{20} + 6 A_{30} x + 12 A_{40} x^{2} + 20 A_{50} x^{3}$"
      ],
      "text/plain": [
       "2*A_20 + 6*A_30*x + 12*A_40*x**2 + 20*A_50*x**3"
      ]
     },
     "metadata": {},
     "output_type": "display_data"
    },
    {
     "data": {
      "text/latex": [
       "$\\displaystyle - A_{11} - 2 A_{21} x - 3 A_{31} x^{2} - 4 A_{41} x^{3}$"
      ],
      "text/plain": [
       "-A_11 - 2*A_21*x - 3*A_31*x**2 - 4*A_41*x**3"
      ]
     },
     "metadata": {},
     "output_type": "display_data"
    }
   ],
   "source": [
    "t1 = sigmayy.subs(y,0)\n",
    "t2 = sigmaxy.subs(y,0)\n",
    "display(t1,t2)"
   ]
  },
  {
   "cell_type": "code",
   "execution_count": 15,
   "metadata": {},
   "outputs": [
    {
     "data": {
      "text/latex": [
       "$\\displaystyle 6 A_{30} = 0$"
      ],
      "text/plain": [
       "Eq(6*A_30, 0)"
      ]
     },
     "metadata": {},
     "output_type": "display_data"
    },
    {
     "data": {
      "text/latex": [
       "$\\displaystyle 12 A_{40} = 0$"
      ],
      "text/plain": [
       "Eq(12*A_40, 0)"
      ]
     },
     "metadata": {},
     "output_type": "display_data"
    },
    {
     "data": {
      "text/latex": [
       "$\\displaystyle 20 A_{50} = 0$"
      ],
      "text/plain": [
       "Eq(20*A_50, 0)"
      ]
     },
     "metadata": {},
     "output_type": "display_data"
    },
    {
     "data": {
      "text/latex": [
       "$\\displaystyle 2 A_{20} = - q_{0}$"
      ],
      "text/plain": [
       "Eq(2*A_20, -q_0)"
      ]
     },
     "metadata": {},
     "output_type": "display_data"
    }
   ],
   "source": [
    "bc1 = sym.Eq(t1.coeff(x),0)\n",
    "bc2 = sym.Eq(t1.coeff(x**2),0)\n",
    "bc3 = sym.Eq(t1.coeff(x**3),0)\n",
    "bc4 = sym.Eq(t1.subs(x,0),-q0)\n",
    "display(bc1,bc2,bc3,bc4)"
   ]
  },
  {
   "cell_type": "code",
   "execution_count": 16,
   "metadata": {},
   "outputs": [
    {
     "data": {
      "text/latex": [
       "$\\displaystyle - 2 A_{21} = 0$"
      ],
      "text/plain": [
       "Eq(-2*A_21, 0)"
      ]
     },
     "metadata": {},
     "output_type": "display_data"
    },
    {
     "data": {
      "text/latex": [
       "$\\displaystyle - 3 A_{31} = 0$"
      ],
      "text/plain": [
       "Eq(-3*A_31, 0)"
      ]
     },
     "metadata": {},
     "output_type": "display_data"
    },
    {
     "data": {
      "text/latex": [
       "$\\displaystyle - 4 A_{41} = 0$"
      ],
      "text/plain": [
       "Eq(-4*A_41, 0)"
      ]
     },
     "metadata": {},
     "output_type": "display_data"
    },
    {
     "data": {
      "text/latex": [
       "$\\displaystyle - A_{11} = 0$"
      ],
      "text/plain": [
       "Eq(-A_11, 0)"
      ]
     },
     "metadata": {},
     "output_type": "display_data"
    }
   ],
   "source": [
    "bc5 = sym.Eq(t2.coeff(x),0)\n",
    "bc6 = sym.Eq(t2.coeff(x**2),0)\n",
    "bc7 = sym.Eq(t2.coeff(x**3),0)\n",
    "bc8 = sym.Eq(t2.subs(x,0),0)\n",
    "display(bc5,bc6,bc7,bc8)"
   ]
  },
  {
   "cell_type": "markdown",
   "metadata": {},
   "source": [
    "<font color='green'> Now we apply conditions: at $y=-d$ ,$\\sigma_{yy} = 0$ and $\\sigma_{xy} = 0$ </font>"
   ]
  },
  {
   "cell_type": "code",
   "execution_count": 17,
   "metadata": {},
   "outputs": [
    {
     "data": {
      "text/latex": [
       "$\\displaystyle 2 A_{20} - 2 A_{21} d + 2 A_{22} d^{2} - 2 A_{23} d^{3} + 6 A_{30} x - 6 A_{31} d x + 6 A_{32} d^{2} x + 12 A_{40} x^{2} - 12 A_{41} d x^{2} + 20 A_{50} x^{3}$"
      ],
      "text/plain": [
       "2*A_20 - 2*A_21*d + 2*A_22*d**2 - 2*A_23*d**3 + 6*A_30*x - 6*A_31*d*x + 6*A_32*d**2*x + 12*A_40*x**2 - 12*A_41*d*x**2 + 20*A_50*x**3"
      ]
     },
     "metadata": {},
     "output_type": "display_data"
    },
    {
     "data": {
      "text/latex": [
       "$\\displaystyle - A_{11} + 2 A_{12} d - 3 A_{13} d^{2} + 4 A_{14} d^{3} - 2 A_{21} x + 4 A_{22} d x - 6 A_{23} d^{2} x - 3 A_{31} x^{2} + 6 A_{32} d x^{2} - 4 A_{41} x^{3}$"
      ],
      "text/plain": [
       "-A_11 + 2*A_12*d - 3*A_13*d**2 + 4*A_14*d**3 - 2*A_21*x + 4*A_22*d*x - 6*A_23*d**2*x - 3*A_31*x**2 + 6*A_32*d*x**2 - 4*A_41*x**3"
      ]
     },
     "metadata": {},
     "output_type": "display_data"
    }
   ],
   "source": [
    "t3 = sigmayy.subs(y,-d)\n",
    "t4 = sigmaxy.subs(y,-d)\n",
    "display(t3,t4)"
   ]
  },
  {
   "cell_type": "code",
   "execution_count": 18,
   "metadata": {},
   "outputs": [
    {
     "data": {
      "text/latex": [
       "$\\displaystyle 6 A_{30} - 6 A_{31} d + 6 A_{32} d^{2} = 0$"
      ],
      "text/plain": [
       "Eq(6*A_30 - 6*A_31*d + 6*A_32*d**2, 0)"
      ]
     },
     "metadata": {},
     "output_type": "display_data"
    },
    {
     "data": {
      "text/latex": [
       "$\\displaystyle 12 A_{40} - 12 A_{41} d = 0$"
      ],
      "text/plain": [
       "Eq(12*A_40 - 12*A_41*d, 0)"
      ]
     },
     "metadata": {},
     "output_type": "display_data"
    },
    {
     "data": {
      "text/latex": [
       "$\\displaystyle 20 A_{50} = 0$"
      ],
      "text/plain": [
       "Eq(20*A_50, 0)"
      ]
     },
     "metadata": {},
     "output_type": "display_data"
    },
    {
     "data": {
      "text/latex": [
       "$\\displaystyle 2 A_{20} - 2 A_{21} d + 2 A_{22} d^{2} - 2 A_{23} d^{3} = 0$"
      ],
      "text/plain": [
       "Eq(2*A_20 - 2*A_21*d + 2*A_22*d**2 - 2*A_23*d**3, 0)"
      ]
     },
     "metadata": {},
     "output_type": "display_data"
    }
   ],
   "source": [
    "bc9 = sym.Eq(t3.coeff(x),0)\n",
    "bc10 = sym.Eq(t3.coeff(x**2),0)\n",
    "bc11 = sym.Eq(t3.coeff(x**3),0)\n",
    "bc12 = sym.Eq(t3.subs(x,0),0)\n",
    "display(bc9,bc10,bc11,bc12)"
   ]
  },
  {
   "cell_type": "code",
   "execution_count": 19,
   "metadata": {},
   "outputs": [
    {
     "data": {
      "text/latex": [
       "$\\displaystyle - 2 A_{21} + 4 A_{22} d - 6 A_{23} d^{2} = 0$"
      ],
      "text/plain": [
       "Eq(-2*A_21 + 4*A_22*d - 6*A_23*d**2, 0)"
      ]
     },
     "metadata": {},
     "output_type": "display_data"
    },
    {
     "data": {
      "text/latex": [
       "$\\displaystyle - 3 A_{31} + 6 A_{32} d = 0$"
      ],
      "text/plain": [
       "Eq(-3*A_31 + 6*A_32*d, 0)"
      ]
     },
     "metadata": {},
     "output_type": "display_data"
    },
    {
     "data": {
      "text/latex": [
       "$\\displaystyle - 4 A_{41} = 0$"
      ],
      "text/plain": [
       "Eq(-4*A_41, 0)"
      ]
     },
     "metadata": {},
     "output_type": "display_data"
    },
    {
     "data": {
      "text/latex": [
       "$\\displaystyle - A_{11} + 2 A_{12} d - 3 A_{13} d^{2} + 4 A_{14} d^{3} = 0$"
      ],
      "text/plain": [
       "Eq(-A_11 + 2*A_12*d - 3*A_13*d**2 + 4*A_14*d**3, 0)"
      ]
     },
     "metadata": {},
     "output_type": "display_data"
    }
   ],
   "source": [
    "bc13 = sym.Eq(t4.coeff(x),0)\n",
    "bc14 = sym.Eq(t4.coeff(x**2),0)\n",
    "bc15 = sym.Eq(t4.coeff(x**3),0)\n",
    "bc16 = sym.Eq(t4.subs(x,0),0)\n",
    "display(bc13,bc14,bc15,bc16)"
   ]
  },
  {
   "cell_type": "markdown",
   "metadata": {},
   "source": [
    "<font color='green'> Now we apply conditions:at $x=0$ ,$\\int\\sigma_{xx}\\,dy = 0$ and $\\int\\sigma_{xy}\\,dy = 0$ and $\\int\\sigma_{xx}y\\,dy = 0$ with limits -d to 0</font>"
   ]
  },
  {
   "cell_type": "code",
   "execution_count": 20,
   "metadata": {},
   "outputs": [
    {
     "data": {
      "text/latex": [
       "$\\displaystyle 2 A_{02} + 6 A_{03} y + 12 A_{04} y^{2} + 20 A_{05} y^{3}$"
      ],
      "text/plain": [
       "2*A_02 + 6*A_03*y + 12*A_04*y**2 + 20*A_05*y**3"
      ]
     },
     "metadata": {},
     "output_type": "display_data"
    },
    {
     "data": {
      "text/latex": [
       "$\\displaystyle - A_{11} - 2 A_{12} y - 3 A_{13} y^{2} - 4 A_{14} y^{3}$"
      ],
      "text/plain": [
       "-A_11 - 2*A_12*y - 3*A_13*y**2 - 4*A_14*y**3"
      ]
     },
     "metadata": {},
     "output_type": "display_data"
    }
   ],
   "source": [
    "t5 = sigmaxx.subs(x,0)\n",
    "t6 = sigmaxy.subs(x,0)\n",
    "display(t5,t6)"
   ]
  },
  {
   "cell_type": "code",
   "execution_count": 21,
   "metadata": {},
   "outputs": [
    {
     "data": {
      "text/latex": [
       "$\\displaystyle 2 A_{02} d - 3 A_{03} d^{2} + 4 A_{04} d^{3} - 5 A_{05} d^{4}$"
      ],
      "text/plain": [
       "2*A_02*d - 3*A_03*d**2 + 4*A_04*d**3 - 5*A_05*d**4"
      ]
     },
     "metadata": {},
     "output_type": "display_data"
    }
   ],
   "source": [
    "Fx1 = (sym.integrate(t5,(y,-d,0))).expand()\n",
    "display(Fx1)"
   ]
  },
  {
   "cell_type": "code",
   "execution_count": 22,
   "metadata": {},
   "outputs": [
    {
     "data": {
      "text/latex": [
       "$\\displaystyle - A_{02} d^{2} + 2 A_{03} d^{3} - 3 A_{04} d^{4} + 4 A_{05} d^{5}$"
      ],
      "text/plain": [
       "-A_02*d**2 + 2*A_03*d**3 - 3*A_04*d**4 + 4*A_05*d**5"
      ]
     },
     "metadata": {},
     "output_type": "display_data"
    }
   ],
   "source": [
    "M1 = (sym.integrate(t5*y,(y,-d,0))).expand()\n",
    "display(M1)"
   ]
  },
  {
   "cell_type": "code",
   "execution_count": 23,
   "metadata": {},
   "outputs": [
    {
     "data": {
      "text/latex": [
       "$\\displaystyle - A_{11} d + A_{12} d^{2} - A_{13} d^{3} + A_{14} d^{4}$"
      ],
      "text/plain": [
       "-A_11*d + A_12*d**2 - A_13*d**3 + A_14*d**4"
      ]
     },
     "metadata": {},
     "output_type": "display_data"
    }
   ],
   "source": [
    "V1 = (sym.integrate(t6,(y,-d,0))).expand()\n",
    "display(V1)"
   ]
  },
  {
   "cell_type": "code",
   "execution_count": 24,
   "metadata": {},
   "outputs": [
    {
     "data": {
      "text/latex": [
       "$\\displaystyle 2 A_{02} d - 3 A_{03} d^{2} + 4 A_{04} d^{3} - 5 A_{05} d^{4} = 0$"
      ],
      "text/plain": [
       "Eq(2*A_02*d - 3*A_03*d**2 + 4*A_04*d**3 - 5*A_05*d**4, 0)"
      ]
     },
     "metadata": {},
     "output_type": "display_data"
    },
    {
     "data": {
      "text/latex": [
       "$\\displaystyle - A_{02} d^{2} + 2 A_{03} d^{3} - 3 A_{04} d^{4} + 4 A_{05} d^{5} = 0$"
      ],
      "text/plain": [
       "Eq(-A_02*d**2 + 2*A_03*d**3 - 3*A_04*d**4 + 4*A_05*d**5, 0)"
      ]
     },
     "metadata": {},
     "output_type": "display_data"
    },
    {
     "data": {
      "text/latex": [
       "$\\displaystyle - A_{11} d + A_{12} d^{2} - A_{13} d^{3} + A_{14} d^{4} = 0$"
      ],
      "text/plain": [
       "Eq(-A_11*d + A_12*d**2 - A_13*d**3 + A_14*d**4, 0)"
      ]
     },
     "metadata": {},
     "output_type": "display_data"
    }
   ],
   "source": [
    "bc17 = sym.Eq(Fx1,0)\n",
    "bc18 = sym.Eq(M1,0)\n",
    "bc19 = sym.Eq(V1,0)\n",
    "display(bc17,bc18,bc19)"
   ]
  },
  {
   "cell_type": "markdown",
   "metadata": {},
   "source": [
    "<font color='green'> Now we apply conditions:at $x=l$ ,$\\int\\sigma_{xx}\\,dy = 0$ and $\\int\\sigma_{xy}\\,dy$ = $q_0$*$l$ and $\\int\\sigma_{xx}y\\,dy$ = ($q_0$*$l$<sup>2</sup>)/2 with limits -d to 0</font>"
   ]
  },
  {
   "cell_type": "code",
   "execution_count": 25,
   "metadata": {},
   "outputs": [
    {
     "data": {
      "text/latex": [
       "$\\displaystyle 2 A_{02} + 6 A_{03} y + 12 A_{04} y^{2} + 20 A_{05} y^{3} + 2 A_{12} l + 6 A_{13} l y + 12 A_{14} l y^{2} + 2 A_{22} l^{2} + 6 A_{23} l^{2} y + 2 A_{32} l^{3}$"
      ],
      "text/plain": [
       "2*A_02 + 6*A_03*y + 12*A_04*y**2 + 20*A_05*y**3 + 2*A_12*l + 6*A_13*l*y + 12*A_14*l*y**2 + 2*A_22*l**2 + 6*A_23*l**2*y + 2*A_32*l**3"
      ]
     },
     "metadata": {},
     "output_type": "display_data"
    },
    {
     "data": {
      "text/latex": [
       "$\\displaystyle - A_{11} - 2 A_{12} y - 3 A_{13} y^{2} - 4 A_{14} y^{3} - 2 A_{21} l - 4 A_{22} l y - 6 A_{23} l y^{2} - 3 A_{31} l^{2} - 6 A_{32} l^{2} y - 4 A_{41} l^{3}$"
      ],
      "text/plain": [
       "-A_11 - 2*A_12*y - 3*A_13*y**2 - 4*A_14*y**3 - 2*A_21*l - 4*A_22*l*y - 6*A_23*l*y**2 - 3*A_31*l**2 - 6*A_32*l**2*y - 4*A_41*l**3"
      ]
     },
     "metadata": {},
     "output_type": "display_data"
    }
   ],
   "source": [
    "t7 = sigmaxx.subs(x,l)\n",
    "t8 = sigmaxy.subs(x,l)\n",
    "display(t7,t8)"
   ]
  },
  {
   "cell_type": "code",
   "execution_count": 26,
   "metadata": {},
   "outputs": [
    {
     "data": {
      "text/latex": [
       "$\\displaystyle 2 A_{02} d - 3 A_{03} d^{2} + 4 A_{04} d^{3} - 5 A_{05} d^{4} + 2 A_{12} d l - 3 A_{13} d^{2} l + 4 A_{14} d^{3} l + 2 A_{22} d l^{2} - 3 A_{23} d^{2} l^{2} + 2 A_{32} d l^{3}$"
      ],
      "text/plain": [
       "2*A_02*d - 3*A_03*d**2 + 4*A_04*d**3 - 5*A_05*d**4 + 2*A_12*d*l - 3*A_13*d**2*l + 4*A_14*d**3*l + 2*A_22*d*l**2 - 3*A_23*d**2*l**2 + 2*A_32*d*l**3"
      ]
     },
     "metadata": {},
     "output_type": "display_data"
    }
   ],
   "source": [
    "Fx2 = (sym.integrate(t7,(y,-d,0))).expand()\n",
    "display(Fx2)"
   ]
  },
  {
   "cell_type": "code",
   "execution_count": 27,
   "metadata": {},
   "outputs": [
    {
     "data": {
      "text/latex": [
       "$\\displaystyle - A_{02} d^{2} + 2 A_{03} d^{3} - 3 A_{04} d^{4} + 4 A_{05} d^{5} - A_{12} d^{2} l + 2 A_{13} d^{3} l - 3 A_{14} d^{4} l - A_{22} d^{2} l^{2} + 2 A_{23} d^{3} l^{2} - A_{32} d^{2} l^{3}$"
      ],
      "text/plain": [
       "-A_02*d**2 + 2*A_03*d**3 - 3*A_04*d**4 + 4*A_05*d**5 - A_12*d**2*l + 2*A_13*d**3*l - 3*A_14*d**4*l - A_22*d**2*l**2 + 2*A_23*d**3*l**2 - A_32*d**2*l**3"
      ]
     },
     "metadata": {},
     "output_type": "display_data"
    }
   ],
   "source": [
    "M2 = (sym.integrate(t7*y,(y,-d,0))).expand()\n",
    "display(M2)"
   ]
  },
  {
   "cell_type": "code",
   "execution_count": 28,
   "metadata": {},
   "outputs": [
    {
     "data": {
      "text/latex": [
       "$\\displaystyle - A_{11} d + A_{12} d^{2} - A_{13} d^{3} + A_{14} d^{4} - 2 A_{21} d l + 2 A_{22} d^{2} l - 2 A_{23} d^{3} l - 3 A_{31} d l^{2} + 3 A_{32} d^{2} l^{2} - 4 A_{41} d l^{3}$"
      ],
      "text/plain": [
       "-A_11*d + A_12*d**2 - A_13*d**3 + A_14*d**4 - 2*A_21*d*l + 2*A_22*d**2*l - 2*A_23*d**3*l - 3*A_31*d*l**2 + 3*A_32*d**2*l**2 - 4*A_41*d*l**3"
      ]
     },
     "metadata": {},
     "output_type": "display_data"
    }
   ],
   "source": [
    "V2 = (sym.integrate(t8,(y,-d,0))).expand()\n",
    "display(V2)"
   ]
  },
  {
   "cell_type": "code",
   "execution_count": 29,
   "metadata": {},
   "outputs": [
    {
     "data": {
      "text/latex": [
       "$\\displaystyle 2 A_{02} d - 3 A_{03} d^{2} + 4 A_{04} d^{3} - 5 A_{05} d^{4} + 2 A_{12} d l - 3 A_{13} d^{2} l + 4 A_{14} d^{3} l + 2 A_{22} d l^{2} - 3 A_{23} d^{2} l^{2} + 2 A_{32} d l^{3} = 0$"
      ],
      "text/plain": [
       "Eq(2*A_02*d - 3*A_03*d**2 + 4*A_04*d**3 - 5*A_05*d**4 + 2*A_12*d*l - 3*A_13*d**2*l + 4*A_14*d**3*l + 2*A_22*d*l**2 - 3*A_23*d**2*l**2 + 2*A_32*d*l**3, 0)"
      ]
     },
     "metadata": {},
     "output_type": "display_data"
    },
    {
     "data": {
      "text/latex": [
       "$\\displaystyle - A_{02} d^{2} + 2 A_{03} d^{3} - 3 A_{04} d^{4} + 4 A_{05} d^{5} - A_{12} d^{2} l + 2 A_{13} d^{3} l - 3 A_{14} d^{4} l - A_{22} d^{2} l^{2} + 2 A_{23} d^{3} l^{2} - A_{32} d^{2} l^{3} = \\frac{l^{2} q_{0}}{2}$"
      ],
      "text/plain": [
       "Eq(-A_02*d**2 + 2*A_03*d**3 - 3*A_04*d**4 + 4*A_05*d**5 - A_12*d**2*l + 2*A_13*d**3*l - 3*A_14*d**4*l - A_22*d**2*l**2 + 2*A_23*d**3*l**2 - A_32*d**2*l**3, l**2*q_0/2)"
      ]
     },
     "metadata": {},
     "output_type": "display_data"
    },
    {
     "data": {
      "text/latex": [
       "$\\displaystyle - A_{11} d + A_{12} d^{2} - A_{13} d^{3} + A_{14} d^{4} - 2 A_{21} d l + 2 A_{22} d^{2} l - 2 A_{23} d^{3} l - 3 A_{31} d l^{2} + 3 A_{32} d^{2} l^{2} - 4 A_{41} d l^{3} = l q_{0}$"
      ],
      "text/plain": [
       "Eq(-A_11*d + A_12*d**2 - A_13*d**3 + A_14*d**4 - 2*A_21*d*l + 2*A_22*d**2*l - 2*A_23*d**3*l - 3*A_31*d*l**2 + 3*A_32*d**2*l**2 - 4*A_41*d*l**3, l*q_0)"
      ]
     },
     "metadata": {},
     "output_type": "display_data"
    }
   ],
   "source": [
    "bc20 = sym.Eq(Fx2,0)\n",
    "bc21 = sym.Eq(M2,q0*l**2/2)\n",
    "bc22 = sym.Eq(V2,q0*l)\n",
    "display(bc20,bc21,bc22)"
   ]
  },
  {
   "cell_type": "markdown",
   "metadata": {},
   "source": [
    "Now we solve the 25 equations which are obtained by applying boundary conditions for 18 linear independent constants of airy stress function"
   ]
  },
  {
   "cell_type": "code",
   "execution_count": 30,
   "metadata": {},
   "outputs": [
    {
     "data": {
      "text/latex": [
       "$\\displaystyle A_{20}=- \\frac{q_{0}}{2}$"
      ],
      "text/plain": [
       "<IPython.core.display.Math object>"
      ]
     },
     "metadata": {},
     "output_type": "display_data"
    },
    {
     "data": {
      "text/latex": [
       "$\\displaystyle A_{11}=0$"
      ],
      "text/plain": [
       "<IPython.core.display.Math object>"
      ]
     },
     "metadata": {},
     "output_type": "display_data"
    },
    {
     "data": {
      "text/latex": [
       "$\\displaystyle A_{02}=- \\frac{q_{0}}{10}$"
      ],
      "text/plain": [
       "<IPython.core.display.Math object>"
      ]
     },
     "metadata": {},
     "output_type": "display_data"
    },
    {
     "data": {
      "text/latex": [
       "$\\displaystyle A_{30}=0$"
      ],
      "text/plain": [
       "<IPython.core.display.Math object>"
      ]
     },
     "metadata": {},
     "output_type": "display_data"
    },
    {
     "data": {
      "text/latex": [
       "$\\displaystyle A_{21}=0$"
      ],
      "text/plain": [
       "<IPython.core.display.Math object>"
      ]
     },
     "metadata": {},
     "output_type": "display_data"
    },
    {
     "data": {
      "text/latex": [
       "$\\displaystyle A_{12}=0$"
      ],
      "text/plain": [
       "<IPython.core.display.Math object>"
      ]
     },
     "metadata": {},
     "output_type": "display_data"
    },
    {
     "data": {
      "text/latex": [
       "$\\displaystyle A_{03}=- \\frac{2 q_{0}}{5 d}$"
      ],
      "text/plain": [
       "<IPython.core.display.Math object>"
      ]
     },
     "metadata": {},
     "output_type": "display_data"
    },
    {
     "data": {
      "text/latex": [
       "$\\displaystyle A_{40}=0$"
      ],
      "text/plain": [
       "<IPython.core.display.Math object>"
      ]
     },
     "metadata": {},
     "output_type": "display_data"
    },
    {
     "data": {
      "text/latex": [
       "$\\displaystyle A_{31}=0$"
      ],
      "text/plain": [
       "<IPython.core.display.Math object>"
      ]
     },
     "metadata": {},
     "output_type": "display_data"
    },
    {
     "data": {
      "text/latex": [
       "$\\displaystyle A_{22}=\\frac{3 q_{0}}{2 d^{2}}$"
      ],
      "text/plain": [
       "<IPython.core.display.Math object>"
      ]
     },
     "metadata": {},
     "output_type": "display_data"
    },
    {
     "data": {
      "text/latex": [
       "$\\displaystyle A_{13}=0$"
      ],
      "text/plain": [
       "<IPython.core.display.Math object>"
      ]
     },
     "metadata": {},
     "output_type": "display_data"
    },
    {
     "data": {
      "text/latex": [
       "$\\displaystyle A_{04}=- \\frac{q_{0}}{2 d^{2}}$"
      ],
      "text/plain": [
       "<IPython.core.display.Math object>"
      ]
     },
     "metadata": {},
     "output_type": "display_data"
    },
    {
     "data": {
      "text/latex": [
       "$\\displaystyle A_{50}=0$"
      ],
      "text/plain": [
       "<IPython.core.display.Math object>"
      ]
     },
     "metadata": {},
     "output_type": "display_data"
    },
    {
     "data": {
      "text/latex": [
       "$\\displaystyle A_{41}=0$"
      ],
      "text/plain": [
       "<IPython.core.display.Math object>"
      ]
     },
     "metadata": {},
     "output_type": "display_data"
    },
    {
     "data": {
      "text/latex": [
       "$\\displaystyle A_{32}=0$"
      ],
      "text/plain": [
       "<IPython.core.display.Math object>"
      ]
     },
     "metadata": {},
     "output_type": "display_data"
    },
    {
     "data": {
      "text/latex": [
       "$\\displaystyle A_{23}=\\frac{q_{0}}{d^{3}}$"
      ],
      "text/plain": [
       "<IPython.core.display.Math object>"
      ]
     },
     "metadata": {},
     "output_type": "display_data"
    },
    {
     "data": {
      "text/latex": [
       "$\\displaystyle A_{14}=0$"
      ],
      "text/plain": [
       "<IPython.core.display.Math object>"
      ]
     },
     "metadata": {},
     "output_type": "display_data"
    },
    {
     "data": {
      "text/latex": [
       "$\\displaystyle A_{05}=- \\frac{q_{0}}{5 d^{3}}$"
      ],
      "text/plain": [
       "<IPython.core.display.Math object>"
      ]
     },
     "metadata": {},
     "output_type": "display_data"
    }
   ],
   "source": [
    "soln, = sym.linsolve([cond1,cond2,cond3,bc1,bc2,bc3,bc4,bc5,bc6,bc7,bc8,bc9,bc10,bc11,bc12,bc13,bc14,bc15,bc16,bc17,bc18,bc19,bc20,bc21,bc22],[A20,A11,A02,A30,A21,A12,A03,A40,A31,A22,A13,A04,A50,A41,A32,A23,A14,A05])\n",
    "A20soln = soln[0]\n",
    "A11soln = soln[1]\n",
    "A02soln = soln[2]\n",
    "A30soln = soln[3]\n",
    "A21soln = soln[4]\n",
    "A12soln = soln[5]\n",
    "A03soln = soln[6]\n",
    "A40soln = soln[7]\n",
    "A31soln = soln[8]\n",
    "A22soln = soln[9]\n",
    "A13soln = soln[10]\n",
    "A04soln = soln[11]\n",
    "A50soln = soln[12]\n",
    "A41soln = soln[13]\n",
    "A32soln = soln[14]\n",
    "A23soln = soln[15]\n",
    "A14soln = soln[16]\n",
    "A05soln = soln[17]\n",
    "display(Math(r'$A_{{20}}={}$'.format(sym.latex(A20soln))))\n",
    "display(Math(r'$A_{{11}}={}$'.format(sym.latex(A11soln))))\n",
    "display(Math(r'$A_{{02}}={}$'.format(sym.latex(A02soln))))\n",
    "display(Math(r'$A_{{30}}={}$'.format(sym.latex(A30soln))))\n",
    "display(Math(r'$A_{{21}}={}$'.format(sym.latex(A21soln))))\n",
    "display(Math(r'$A_{{12}}={}$'.format(sym.latex(A12soln))))\n",
    "display(Math(r'$A_{{03}}={}$'.format(sym.latex(A03soln))))\n",
    "display(Math(r'$A_{{40}}={}$'.format(sym.latex(A40soln))))\n",
    "display(Math(r'$A_{{31}}={}$'.format(sym.latex(A31soln))))\n",
    "display(Math(r'$A_{{22}}={}$'.format(sym.latex(A22soln))))\n",
    "display(Math(r'$A_{{13}}={}$'.format(sym.latex(A13soln))))\n",
    "display(Math(r'$A_{{04}}={}$'.format(sym.latex(A04soln))))\n",
    "display(Math(r'$A_{{50}}={}$'.format(sym.latex(A50soln))))\n",
    "display(Math(r'$A_{{41}}={}$'.format(sym.latex(A41soln))))\n",
    "display(Math(r'$A_{{32}}={}$'.format(sym.latex(A32soln))))\n",
    "display(Math(r'$A_{{23}}={}$'.format(sym.latex(A23soln))))\n",
    "display(Math(r'$A_{{14}}={}$'.format(sym.latex(A14soln))))\n",
    "display(Math(r'$A_{{05}}={}$'.format(sym.latex(A05soln))))"
   ]
  },
  {
   "cell_type": "markdown",
   "metadata": {},
   "source": [
    "Now we got contants of airy stress function "
   ]
  },
  {
   "cell_type": "code",
   "execution_count": 31,
   "metadata": {},
   "outputs": [
    {
     "name": "stdout",
     "output_type": "stream",
     "text": [
      "We got airy stress function\n"
     ]
    },
    {
     "data": {
      "text/latex": [
       "$\\displaystyle \\phi = - \\frac{q_{0} x^{2}}{2} - \\frac{q_{0} y^{2}}{10} - \\frac{2 q_{0} y^{3}}{5 d} + \\frac{3 q_{0} x^{2} y^{2}}{2 d^{2}} - \\frac{q_{0} y^{4}}{2 d^{2}} + \\frac{q_{0} x^{2} y^{3}}{d^{3}} - \\frac{q_{0} y^{5}}{5 d^{3}}$"
      ],
      "text/plain": [
       "<IPython.core.display.Math object>"
      ]
     },
     "metadata": {},
     "output_type": "display_data"
    }
   ],
   "source": [
    "phi = phi.subs([(A20,A20soln),(A11,A11soln),(A02,A02soln),(A30,A30soln),(A21,A21soln),(A12,A12soln),(A03,A03soln),(A40,A40soln),(A31,A31soln),(A22,A22soln),(A13,A13soln),(A04,A04soln),(A50,A50soln),(A41,A41soln),(A32,A32soln),(A23,A23soln),(A14,A14soln),(A05,A05soln)])\n",
    "print(\"We got airy stress function\")\n",
    "display(Math(r'\\phi = {}'.format(sym.latex(phi))))"
   ]
  },
  {
   "cell_type": "markdown",
   "metadata": {},
   "source": [
    "Now we substitute airy stress function in $\\sigma_{xx} , \\sigma_{yy}$ and $\\sigma_{xy} $ and we obtain its expressions"
   ]
  },
  {
   "cell_type": "code",
   "execution_count": 32,
   "metadata": {},
   "outputs": [
    {
     "data": {
      "text/latex": [
       "$\\displaystyle \\sigma_{xx}=- \\frac{q_{0}}{5} - \\frac{12 q_{0} y}{5 d} + \\frac{3 q_{0} x^{2}}{d^{2}} - \\frac{6 q_{0} y^{2}}{d^{2}} + \\frac{6 q_{0} x^{2} y}{d^{3}} - \\frac{4 q_{0} y^{3}}{d^{3}}$"
      ],
      "text/plain": [
       "<IPython.core.display.Math object>"
      ]
     },
     "metadata": {},
     "output_type": "display_data"
    },
    {
     "data": {
      "text/latex": [
       "$\\displaystyle \\sigma_{yy}=- q_{0} + \\frac{3 q_{0} y^{2}}{d^{2}} + \\frac{2 q_{0} y^{3}}{d^{3}}$"
      ],
      "text/plain": [
       "<IPython.core.display.Math object>"
      ]
     },
     "metadata": {},
     "output_type": "display_data"
    },
    {
     "data": {
      "text/latex": [
       "$\\displaystyle \\sigma_{xy}=- \\frac{6 q_{0} x y}{d^{2}} - \\frac{6 q_{0} x y^{2}}{d^{3}}$"
      ],
      "text/plain": [
       "<IPython.core.display.Math object>"
      ]
     },
     "metadata": {},
     "output_type": "display_data"
    }
   ],
   "source": [
    "sigmaxx = sigmaxx.subs([(A20,A20soln),(A11,A11soln),(A02,A02soln),(A30,A30soln),(A21,A21soln),(A12,A12soln),(A03,A03soln),(A40,A40soln),(A31,A31soln),(A22,A22soln),(A13,A13soln),(A04,A04soln),(A50,A50soln),(A41,A41soln),(A32,A32soln),(A23,A23soln),(A14,A14soln),(A05,A05soln)])\n",
    "sigmayy = sigmayy.subs([(A20,A20soln),(A11,A11soln),(A02,A02soln),(A30,A30soln),(A21,A21soln),(A12,A12soln),(A03,A03soln),(A40,A40soln),(A31,A31soln),(A22,A22soln),(A13,A13soln),(A04,A04soln),(A50,A50soln),(A41,A41soln),(A32,A32soln),(A23,A23soln),(A14,A14soln),(A05,A05soln)])\n",
    "sigmaxy = sigmaxy.subs([(A20,A20soln),(A11,A11soln),(A02,A02soln),(A30,A30soln),(A21,A21soln),(A12,A12soln),(A03,A03soln),(A40,A40soln),(A31,A31soln),(A22,A22soln),(A13,A13soln),(A04,A04soln),(A50,A50soln),(A41,A41soln),(A32,A32soln),(A23,A23soln),(A14,A14soln),(A05,A05soln)])\n",
    "\n",
    "display(Math(r'\\sigma_{{xx}}={}'.format(sym.latex(sigmaxx))))\n",
    "display(Math(r'\\sigma_{{yy}}={}'.format(sym.latex(sigmayy))))\n",
    "display(Math(r'\\sigma_{{xy}}={}'.format(sym.latex(sigmaxy))))"
   ]
  },
  {
   "cell_type": "markdown",
   "metadata": {},
   "source": [
    "From Plain Stress equations, we now solve for $\\epsilon_{xx}$, $\\epsilon_{xy}$ and $\\epsilon_{yy}$ , here $E$ is Young's Modulous and $\\nu$ is poisson's ratio"
   ]
  },
  {
   "cell_type": "code",
   "execution_count": 33,
   "metadata": {},
   "outputs": [
    {
     "data": {
      "text/latex": [
       "$\\displaystyle \\varepsilon_{xx} = \\frac{- \\nu \\left(- q_{0} + \\frac{3 q_{0} y^{2}}{d^{2}} + \\frac{2 q_{0} y^{3}}{d^{3}}\\right) - \\frac{q_{0}}{5} - \\frac{12 q_{0} y}{5 d} + \\frac{3 q_{0} x^{2}}{d^{2}} - \\frac{6 q_{0} y^{2}}{d^{2}} + \\frac{6 q_{0} x^{2} y}{d^{3}} - \\frac{4 q_{0} y^{3}}{d^{3}}}{E}$"
      ],
      "text/plain": [
       "<IPython.core.display.Math object>"
      ]
     },
     "metadata": {},
     "output_type": "display_data"
    },
    {
     "data": {
      "text/latex": [
       "$\\displaystyle \\varepsilon_{yy} = \\frac{- \\nu \\left(- \\frac{q_{0}}{5} - \\frac{12 q_{0} y}{5 d} + \\frac{3 q_{0} x^{2}}{d^{2}} - \\frac{6 q_{0} y^{2}}{d^{2}} + \\frac{6 q_{0} x^{2} y}{d^{3}} - \\frac{4 q_{0} y^{3}}{d^{3}}\\right) - q_{0} + \\frac{3 q_{0} y^{2}}{d^{2}} + \\frac{2 q_{0} y^{3}}{d^{3}}}{E}$"
      ],
      "text/plain": [
       "<IPython.core.display.Math object>"
      ]
     },
     "metadata": {},
     "output_type": "display_data"
    },
    {
     "data": {
      "text/latex": [
       "$\\displaystyle \\varepsilon_{xy} = \\frac{\\left(\\nu + 1\\right) \\left(- \\frac{6 q_{0} x y}{d^{2}} - \\frac{6 q_{0} x y^{2}}{d^{3}}\\right)}{E}$"
      ],
      "text/plain": [
       "<IPython.core.display.Math object>"
      ]
     },
     "metadata": {},
     "output_type": "display_data"
    }
   ],
   "source": [
    "E, nu = sym.symbols('E, nu', positive = \"True\")\n",
    "\n",
    "ep_xx_stress = 1/E*(sigmaxx - nu*sigmayy)\n",
    "ep_yy_stress = 1/E*(sigmayy - nu*sigmaxx)\n",
    "ep_xy_stress = (1+nu)/E*sigmaxy\n",
    "\n",
    "display(Math(r'\\varepsilon_{{xx}} = {}'.format(sym.latex(ep_xx_stress))))\n",
    "display(Math(r'\\varepsilon_{{yy}} = {}'.format(sym.latex(ep_yy_stress))))\n",
    "display(Math(r'\\varepsilon_{{xy}} = {}'.format(sym.latex(ep_xy_stress))))"
   ]
  },
  {
   "cell_type": "markdown",
   "metadata": {},
   "source": [
    "To find displacement we use the strain-displacement relations in rectangular cartesian coordinates, which are: \n",
    "$$\\begin{align} \\varepsilon_{xx}= \\frac{\\partial u}{\\partial x} \\\\ \\varepsilon_{yy}= \\frac{\\partial v}{\\partial y} \\end{align}$$ $$\\begin{align} \\varepsilon_{xy}= \\frac{1}{2}(\\frac{\\partial u}{\\partial y}+\\frac{\\partial v}{\\partial x})\\end{align}$$\n",
    "\n",
    "where $u(x,y)$ and $v(x,y)$ are the displacement field variables along the $x$ and $y$ directions, respectively. $u(x,y)$ and $v(x,y)$ are function of both $x$ and $y$. We now solve the above strain-displacement relations to find $u(x,y)$ and $v(x,y)$ by integrating the equations.\n"
   ]
  },
  {
   "cell_type": "markdown",
   "metadata": {},
   "source": [
    "First we find $u(x,y)$"
   ]
  },
  {
   "cell_type": "code",
   "execution_count": 34,
   "metadata": {},
   "outputs": [
    {
     "data": {
      "text/latex": [
       "$\\displaystyle u{\\left(x,y \\right)} = \\frac{E d^{3} \\operatorname{f_{1}}{\\left(- y \\right)} + \\frac{d^{3} q_{0} x \\left(5 \\nu - 1\\right)}{5} - \\frac{12 d^{2} q_{0} x y}{5} + d q_{0} x \\left(- 3 \\nu y^{2} + x^{2} - 6 y^{2}\\right) + 2 q_{0} x y \\left(- \\nu y^{2} + x^{2} - 2 y^{2}\\right)}{E d^{3}}$"
      ],
      "text/plain": [
       "Eq(u(x, y), (E*d**3*f_1(-y) + d**3*q_0*x*(5*nu - 1)/5 - 12*d**2*q_0*x*y/5 + d*q_0*x*(-3*nu*y**2 + x**2 - 6*y**2) + 2*q_0*x*y*(-nu*y**2 + x**2 - 2*y**2))/(E*d**3))"
      ]
     },
     "execution_count": 34,
     "metadata": {},
     "output_type": "execute_result"
    }
   ],
   "source": [
    "u = sym.Function('u')(x,y)\n",
    "lhs = sym.diff(u,x)\n",
    "rhs = ep_xx_stress\n",
    "eq1 = sym.Eq(lhs,rhs)\n",
    "f1 = sym.Function('f_1')\n",
    "sol1 = sym.pdsolve(eq1,solvefun=f1)\n",
    "U_value = sol1.expand().simplify()\n",
    "U_value"
   ]
  },
  {
   "cell_type": "markdown",
   "metadata": {},
   "source": [
    "Now we find $v(x,y)$"
   ]
  },
  {
   "cell_type": "code",
   "execution_count": 35,
   "metadata": {},
   "outputs": [
    {
     "data": {
      "text/latex": [
       "$\\displaystyle v{\\left(x,y \\right)} = \\frac{E d^{3} \\operatorname{f_{2}}{\\left(x \\right)} + \\frac{d^{3} q_{0} y \\left(\\nu - 5\\right)}{5} + \\frac{6 d^{2} \\nu q_{0} y^{2}}{5} + d q_{0} y \\left(- 3 \\nu x^{2} + 2 \\nu y^{2} + y^{2}\\right) + \\frac{q_{0} y^{2} \\left(- 6 \\nu x^{2} + 2 \\nu y^{2} + y^{2}\\right)}{2}}{E d^{3}}$"
      ],
      "text/plain": [
       "Eq(v(x, y), (E*d**3*f_2(x) + d**3*q_0*y*(nu - 5)/5 + 6*d**2*nu*q_0*y**2/5 + d*q_0*y*(-3*nu*x**2 + 2*nu*y**2 + y**2) + q_0*y**2*(-6*nu*x**2 + 2*nu*y**2 + y**2)/2)/(E*d**3))"
      ]
     },
     "execution_count": 35,
     "metadata": {},
     "output_type": "execute_result"
    }
   ],
   "source": [
    "v = sym.Function('v')(x,y)\n",
    "lhs = sym.diff(v,y)\n",
    "rhs = ep_yy_stress\n",
    "eq2 = sym.Eq(lhs,rhs)\n",
    "f2 = sym.Function('f_2')\n",
    "sol2 = sym.pdsolve(eq2,solvefun=f2)\n",
    "V_value = sol2.expand().simplify()\n",
    "V_value"
   ]
  },
  {
   "cell_type": "markdown",
   "metadata": {},
   "source": [
    "Now we solve the equation of $\\varepsilon(x,y)$"
   ]
  },
  {
   "cell_type": "code",
   "execution_count": 36,
   "metadata": {},
   "outputs": [
    {
     "data": {
      "text/latex": [
       "$\\displaystyle \\frac{\\frac{d}{d x} \\operatorname{f_{2}}{\\left(x \\right)}}{2} - \\frac{\\left. \\frac{d}{d \\xi_{1}} \\operatorname{f_{1}}{\\left(\\xi_{1} \\right)} \\right|_{\\substack{ \\xi_{1}=- y }}}{2} - \\frac{6 q_{0} x}{5 E d} - \\frac{6 \\nu q_{0} x y}{E d^{2}} - \\frac{6 q_{0} x y}{E d^{2}} - \\frac{6 \\nu q_{0} x y^{2}}{E d^{3}} + \\frac{q_{0} x^{3}}{E d^{3}} - \\frac{6 q_{0} x y^{2}}{E d^{3}} = - \\frac{6 \\nu q_{0} x y}{E d^{2}} - \\frac{6 q_{0} x y}{E d^{2}} - \\frac{6 \\nu q_{0} x y^{2}}{E d^{3}} - \\frac{6 q_{0} x y^{2}}{E d^{3}}$"
      ],
      "text/plain": [
       "Eq(Derivative(f_2(x), x)/2 - Subs(Derivative(f_1(_xi_1), _xi_1), _xi_1, -y)/2 - 6*q_0*x/(5*E*d) - 6*nu*q_0*x*y/(E*d**2) - 6*q_0*x*y/(E*d**2) - 6*nu*q_0*x*y**2/(E*d**3) + q_0*x**3/(E*d**3) - 6*q_0*x*y**2/(E*d**3), -6*nu*q_0*x*y/(E*d**2) - 6*q_0*x*y/(E*d**2) - 6*nu*q_0*x*y**2/(E*d**3) - 6*q_0*x*y**2/(E*d**3))"
      ]
     },
     "execution_count": 36,
     "metadata": {},
     "output_type": "execute_result"
    }
   ],
   "source": [
    "lhs = sym.Rational(1,2)*(sym.diff(U_value.rhs,y) + sym.diff(V_value.rhs,x))\n",
    "rhs = ep_xy_stress\n",
    "eq3 = sym.Eq(lhs,rhs)\n",
    "eq3.expand().expand()"
   ]
  },
  {
   "cell_type": "markdown",
   "metadata": {},
   "source": [
    "In general equation, few terms are functions of $x$ only, few are functions of $y$ only,few terms are dependent on both $x$ and $y$ and rest are independent of both $x$ and $y$. \n",
    "    \n",
    "These dependent and nondependent groups are denoted by $F(x)$ for $x$ dependence terms, $G(y)$ for $y$ dependence terms and $K$ for terms independent of $x$ and $y$.\n",
    "   \n",
    "The terms containing functions both $x$ and $y$ cancels out each other. \n",
    "    \n",
    "By solving manually, we obtain the below mentioned equations. The summation of these three independent equations, i.e. $F(x)$, $G(y)$ and $K$ represent the above equation."
   ]
  },
  {
   "cell_type": "markdown",
   "metadata": {},
   "source": [
    "Now collect terms which are functions of x"
   ]
  },
  {
   "cell_type": "code",
   "execution_count": 37,
   "metadata": {},
   "outputs": [
    {
     "data": {
      "text/latex": [
       "$\\displaystyle F{\\left(x \\right)} = \\frac{d}{d x} f{\\left(x \\right)} + \\frac{6 q_{0} x}{5 E d} - \\frac{q_{0} x^{3}}{E d^{3}}$"
      ],
      "text/plain": [
       "Eq(F(x), Derivative(f(x), x) + 6*q_0*x/(5*E*d) - q_0*x**3/(E*d**3))"
      ]
     },
     "execution_count": 37,
     "metadata": {},
     "output_type": "execute_result"
    }
   ],
   "source": [
    "F = sym.Function('F')(x)\n",
    "f = sym.Function('f')(x)\n",
    "lhs = F\n",
    "rhs = 6*q0*x/(5*E*d) -q0*x**3/(E*d**3) + sym.diff(f,x)\n",
    "eq4= sym.Eq(lhs,rhs)\n",
    "eq4"
   ]
  },
  {
   "cell_type": "markdown",
   "metadata": {},
   "source": [
    "Now collect terms which are functions of y"
   ]
  },
  {
   "cell_type": "code",
   "execution_count": 38,
   "metadata": {},
   "outputs": [
    {
     "data": {
      "text/latex": [
       "$\\displaystyle G{\\left(y \\right)} = \\frac{d}{d y} g{\\left(y \\right)}$"
      ],
      "text/plain": [
       "Eq(G(y), Derivative(g(y), y))"
      ]
     },
     "execution_count": 38,
     "metadata": {},
     "output_type": "execute_result"
    }
   ],
   "source": [
    "G = sym.Function('G')(y)\n",
    "g = sym.Function('g')(y)\n",
    "lhs = G\n",
    "rhs = sym.diff(g,y)\n",
    "eq5 = sym.Eq(lhs,rhs)\n",
    "eq5"
   ]
  },
  {
   "cell_type": "markdown",
   "metadata": {},
   "source": [
    "Now collect terms which are functions of x and y"
   ]
  },
  {
   "cell_type": "code",
   "execution_count": 39,
   "metadata": {},
   "outputs": [
    {
     "data": {
      "text/latex": [
       "$\\displaystyle K = 0$"
      ],
      "text/plain": [
       "Eq(K, 0)"
      ]
     },
     "execution_count": 39,
     "metadata": {},
     "output_type": "execute_result"
    }
   ],
   "source": [
    "K = sym.symbols('K')\n",
    "lhs = K\n",
    "rhs = 0\n",
    "eq6 = sym.Eq(lhs,rhs)\n",
    "eq6"
   ]
  },
  {
   "cell_type": "markdown",
   "metadata": {},
   "source": [
    "The above equation means that $F(x)$ assumed to be $m$ and $G(y)$ assumed to be $e$. Because otherwise, $F(x)$ and $G(y)$ would vary with $x$ and $y$ respectively and by varying $x$ alone or $y$ alone, the equality would be violated."
   ]
  },
  {
   "cell_type": "markdown",
   "metadata": {},
   "source": [
    "Now equation $F(x) + G(y) = K$ can be written as $m + e = K$"
   ]
  },
  {
   "cell_type": "markdown",
   "metadata": {},
   "source": [
    "Now we rearrange $F(x)$ and $G(y)$ equations interms of $f(x)$ and $g(y)$, we have;"
   ]
  },
  {
   "cell_type": "code",
   "execution_count": 40,
   "metadata": {},
   "outputs": [
    {
     "data": {
      "text/latex": [
       "$\\displaystyle \\frac{d}{d x} f{\\left(x \\right)} = m - \\frac{6 q_{0} x}{5 E d} + \\frac{q_{0} x^{3}}{E d^{3}}$"
      ],
      "text/plain": [
       "Eq(Derivative(f(x), x), m - 6*q_0*x/(5*E*d) + q_0*x**3/(E*d**3))"
      ]
     },
     "execution_count": 40,
     "metadata": {},
     "output_type": "execute_result"
    }
   ],
   "source": [
    "f = sym.Function('f')(x)\n",
    "m = sym.symbols('m')\n",
    "lhs = sym.diff(f,x)\n",
    "rhs = m - 6*q0*x/(5*E*d) + q0*x**3/(E*d**3)\n",
    "eq7 = sym.Eq(lhs,rhs)\n",
    "eq7"
   ]
  },
  {
   "cell_type": "code",
   "execution_count": 41,
   "metadata": {},
   "outputs": [
    {
     "data": {
      "text/latex": [
       "$\\displaystyle \\frac{d}{d y} g{\\left(y \\right)} = e$"
      ],
      "text/plain": [
       "Eq(Derivative(g(y), y), e)"
      ]
     },
     "execution_count": 41,
     "metadata": {},
     "output_type": "execute_result"
    }
   ],
   "source": [
    "g = sym.Function('g')(y)\n",
    "e = sym.symbols('e')\n",
    "lhs = sym.diff(g,y)\n",
    "rhs = e \n",
    "eq8 = sym.Eq(lhs,rhs)\n",
    "eq8"
   ]
  },
  {
   "cell_type": "markdown",
   "metadata": {},
   "source": [
    "Now we solve for $f(x)$"
   ]
  },
  {
   "cell_type": "code",
   "execution_count": 42,
   "metadata": {},
   "outputs": [
    {
     "data": {
      "text/latex": [
       "$\\displaystyle f{\\left(x \\right)} = C_{1} + m x - \\frac{3 q_{0} x^{2}}{5 E d} + \\frac{q_{0} x^{4}}{4 E d^{3}}$"
      ],
      "text/plain": [
       "Eq(f(x), C1 + m*x - 3*q_0*x**2/(5*E*d) + q_0*x**4/(4*E*d**3))"
      ]
     },
     "execution_count": 42,
     "metadata": {},
     "output_type": "execute_result"
    }
   ],
   "source": [
    "sym.dsolve(eq7).expand()"
   ]
  },
  {
   "cell_type": "markdown",
   "metadata": {},
   "source": [
    "Now we solve for $g(y)$"
   ]
  },
  {
   "cell_type": "code",
   "execution_count": 43,
   "metadata": {},
   "outputs": [
    {
     "data": {
      "text/latex": [
       "$\\displaystyle g{\\left(y \\right)} = C_{1} + e y$"
      ],
      "text/plain": [
       "Eq(g(y), C1 + e*y)"
      ]
     },
     "execution_count": 43,
     "metadata": {},
     "output_type": "execute_result"
    }
   ],
   "source": [
    "sym.dsolve(eq8).expand()"
   ]
  },
  {
   "cell_type": "markdown",
   "metadata": {},
   "source": [
    "Re-writing the equations of $f(x)$ and $g(y)$ by assigning a different constant $H$ for $C_1$ of $f(x)$ and $G$ for $C_1$ for $G(y)$, as both $C_1$ are different, we have: "
   ]
  },
  {
   "cell_type": "code",
   "execution_count": 44,
   "metadata": {},
   "outputs": [
    {
     "data": {
      "text/latex": [
       "$\\displaystyle \\ f(x) = H + m x - \\frac{3 q_{0} x^{2}}{5 E d} + \\frac{q_{0} x^{4}}{4 E d^{3}}$"
      ],
      "text/plain": [
       "<IPython.core.display.Math object>"
      ]
     },
     "metadata": {},
     "output_type": "display_data"
    }
   ],
   "source": [
    "H = sym.symbols('H')\n",
    "f = (H + m*x - 3*q0*x**2/(5*E*d) + q0*x**4/(4*E*d**3)).expand()\n",
    "\n",
    "display(Math(r'\\ f(x) = {}'.format(sym.latex(f))))"
   ]
  },
  {
   "cell_type": "code",
   "execution_count": 45,
   "metadata": {},
   "outputs": [
    {
     "data": {
      "text/latex": [
       "$\\displaystyle \\ g(y) = G + e y$"
      ],
      "text/plain": [
       "<IPython.core.display.Math object>"
      ]
     },
     "metadata": {},
     "output_type": "display_data"
    }
   ],
   "source": [
    "G = sym.symbols('G')\n",
    "g = (G + e*y).expand()\n",
    "\n",
    "display(Math(r'\\ g(y) = {}'.format(sym.latex(g))))"
   ]
  },
  {
   "cell_type": "markdown",
   "metadata": {},
   "source": [
    "<font color='green'> Substituting the values of $f(x)$ and $g(y)$ in equations of $V$ and $U$"
   ]
  },
  {
   "cell_type": "code",
   "execution_count": 46,
   "metadata": {},
   "outputs": [
    {
     "data": {
      "text/latex": [
       "$\\displaystyle u{\\left(x,y \\right)} = - G - e y + \\frac{\\nu q_{0} x}{E} - \\frac{q_{0} x}{5 E} - \\frac{12 q_{0} x y}{5 E d} - \\frac{3 \\nu q_{0} x y^{2}}{E d^{2}} + \\frac{q_{0} x^{3}}{E d^{2}} - \\frac{6 q_{0} x y^{2}}{E d^{2}} - \\frac{2 \\nu q_{0} x y^{3}}{E d^{3}} + \\frac{2 q_{0} x^{3} y}{E d^{3}} - \\frac{4 q_{0} x y^{3}}{E d^{3}}$"
      ],
      "text/plain": [
       "Eq(u(x, y), -G - e*y + nu*q_0*x/E - q_0*x/(5*E) - 12*q_0*x*y/(5*E*d) - 3*nu*q_0*x*y**2/(E*d**2) + q_0*x**3/(E*d**2) - 6*q_0*x*y**2/(E*d**2) - 2*nu*q_0*x*y**3/(E*d**3) + 2*q_0*x**3*y/(E*d**3) - 4*q_0*x*y**3/(E*d**3))"
      ]
     },
     "execution_count": 46,
     "metadata": {},
     "output_type": "execute_result"
    }
   ],
   "source": [
    "U_semi = (U_value.subs(f1(-y),-g)).expand()\n",
    "U_semi"
   ]
  },
  {
   "cell_type": "code",
   "execution_count": 47,
   "metadata": {},
   "outputs": [
    {
     "data": {
      "text/latex": [
       "$\\displaystyle v{\\left(x,y \\right)} = H + m x + \\frac{\\nu q_{0} y}{5 E} - \\frac{q_{0} y}{E} + \\frac{6 \\nu q_{0} y^{2}}{5 E d} - \\frac{3 q_{0} x^{2}}{5 E d} - \\frac{3 \\nu q_{0} x^{2} y}{E d^{2}} + \\frac{2 \\nu q_{0} y^{3}}{E d^{2}} + \\frac{q_{0} y^{3}}{E d^{2}} - \\frac{3 \\nu q_{0} x^{2} y^{2}}{E d^{3}} + \\frac{\\nu q_{0} y^{4}}{E d^{3}} + \\frac{q_{0} x^{4}}{4 E d^{3}} + \\frac{q_{0} y^{4}}{2 E d^{3}}$"
      ],
      "text/plain": [
       "Eq(v(x, y), H + m*x + nu*q_0*y/(5*E) - q_0*y/E + 6*nu*q_0*y**2/(5*E*d) - 3*q_0*x**2/(5*E*d) - 3*nu*q_0*x**2*y/(E*d**2) + 2*nu*q_0*y**3/(E*d**2) + q_0*y**3/(E*d**2) - 3*nu*q_0*x**2*y**2/(E*d**3) + nu*q_0*y**4/(E*d**3) + q_0*x**4/(4*E*d**3) + q_0*y**4/(2*E*d**3))"
      ]
     },
     "execution_count": 47,
     "metadata": {},
     "output_type": "execute_result"
    }
   ],
   "source": [
    "V_semi = (V_value.subs(f2(x),f)).expand()\n",
    "V_semi"
   ]
  },
  {
   "cell_type": "markdown",
   "metadata": {},
   "source": [
    "<font color='green'>Applying boundary conditions:\n",
    "\n",
    "$$\\begin{align} At\\ x = l,y=0: u= 0,\\ v = 0,\\ \\frac{\\partial v}{\\partial x} =0, \\ \\frac{\\partial u}{\\partial y} =0 \\end{align}$$"
   ]
  },
  {
   "cell_type": "markdown",
   "metadata": {},
   "source": [
    "Now, applying displacement boundary condtions in equations of $Usemi$ and $Vsemi$, we have;"
   ]
  },
  {
   "cell_type": "code",
   "execution_count": 48,
   "metadata": {},
   "outputs": [
    {
     "data": {
      "text/latex": [
       "$\\displaystyle G - \\frac{l \\nu q_{0}}{E} + \\frac{l q_{0}}{5 E} - \\frac{l^{3} q_{0}}{E d^{2}} = 0$"
      ],
      "text/plain": [
       "Eq(G - l*nu*q_0/E + l*q_0/(5*E) - l**3*q_0/(E*d**2), 0)"
      ]
     },
     "execution_count": 48,
     "metadata": {},
     "output_type": "execute_result"
    }
   ],
   "source": [
    "lhs = 0\n",
    "rhs = U_semi.rhs.subs([(x,l),(y,0)])\n",
    "eq9 = sym.Eq(lhs,rhs)\n",
    "eq9.simplify()"
   ]
  },
  {
   "cell_type": "code",
   "execution_count": 49,
   "metadata": {},
   "outputs": [
    {
     "data": {
      "text/latex": [
       "$\\displaystyle 0 = H + l m - \\frac{3 l^{2} q_{0}}{5 E d} + \\frac{l^{4} q_{0}}{4 E d^{3}}$"
      ],
      "text/plain": [
       "Eq(0, H + l*m - 3*l**2*q_0/(5*E*d) + l**4*q_0/(4*E*d**3))"
      ]
     },
     "execution_count": 49,
     "metadata": {},
     "output_type": "execute_result"
    }
   ],
   "source": [
    "lhs = 0\n",
    "rhs = V_semi.rhs.subs([(x,l),(y,0)])\n",
    "eq10 = sym.Eq(lhs,rhs)\n",
    "eq10"
   ]
  },
  {
   "cell_type": "markdown",
   "metadata": {},
   "source": [
    "Rearranging eq10, we have:"
   ]
  },
  {
   "cell_type": "code",
   "execution_count": 50,
   "metadata": {},
   "outputs": [
    {
     "data": {
      "text/latex": [
       "$\\displaystyle H = - l m + \\frac{2 l^{2} q_{0}}{5 E d} - \\frac{l^{4} q_{0}}{4 E d^{3}}$"
      ],
      "text/plain": [
       "Eq(H, -l*m + 2*l**2*q_0/(5*E*d) - l**4*q_0/(4*E*d**3))"
      ]
     },
     "execution_count": 50,
     "metadata": {},
     "output_type": "execute_result"
    }
   ],
   "source": [
    "lhs = H\n",
    "rhs = -m*l + 2*q0*l**2/(5*E*d) - q0*l**4/(4*E*d**3)\n",
    "eq11 = sym.Eq(lhs,rhs)\n",
    "eq11"
   ]
  },
  {
   "cell_type": "markdown",
   "metadata": {},
   "source": [
    "<font color='green'> Substituting the value of $H$ obtained above and $y=0$ in equation of $Vsemi$, we obtain: "
   ]
  },
  {
   "cell_type": "code",
   "execution_count": 51,
   "metadata": {},
   "outputs": [
    {
     "data": {
      "text/latex": [
       "$\\displaystyle v{\\left(x,0 \\right)} = - l m + m x + \\frac{2 l^{2} q_{0}}{5 E d} - \\frac{3 q_{0} x^{2}}{5 E d} - \\frac{l^{4} q_{0}}{4 E d^{3}} + \\frac{q_{0} x^{4}}{4 E d^{3}}$"
      ],
      "text/plain": [
       "Eq(v(x, 0), -l*m + m*x + 2*l**2*q_0/(5*E*d) - 3*q_0*x**2/(5*E*d) - l**4*q_0/(4*E*d**3) + q_0*x**4/(4*E*d**3))"
      ]
     },
     "execution_count": 51,
     "metadata": {},
     "output_type": "execute_result"
    }
   ],
   "source": [
    "V_semi1 = (V_semi.subs([(H,(-m*l + 2*q0*l**2/(5*E*d) - q0*l**4/(4*E*d**3))),(y,0)]))\n",
    "V_semi1"
   ]
  },
  {
   "cell_type": "markdown",
   "metadata": {},
   "source": [
    "Differentiating the above equation with respect to $x$ and equated to 0, we have: "
   ]
  },
  {
   "cell_type": "code",
   "execution_count": 52,
   "metadata": {},
   "outputs": [
    {
     "data": {
      "text/latex": [
       "$\\displaystyle m - \\frac{6 q_{0} x}{5 E d} + \\frac{q_{0} x^{3}}{E d^{3}} = 0$"
      ],
      "text/plain": [
       "Eq(m - 6*q_0*x/(5*E*d) + q_0*x**3/(E*d**3), 0)"
      ]
     },
     "execution_count": 52,
     "metadata": {},
     "output_type": "execute_result"
    }
   ],
   "source": [
    "lhs = sym.diff(V_semi1.rhs,x)\n",
    "rhs = 0\n",
    "eq12 = sym.Eq(lhs,rhs)\n",
    "eq12"
   ]
  },
  {
   "cell_type": "markdown",
   "metadata": {},
   "source": [
    "Since, we have assumed above $m+e =K$, the equation for $e$ can be written as $e = K - m$;"
   ]
  },
  {
   "cell_type": "code",
   "execution_count": 53,
   "metadata": {},
   "outputs": [
    {
     "data": {
      "text/latex": [
       "$\\displaystyle e = - \\frac{6 q_{0} x}{5 E d} + \\frac{q_{0} x^{3}}{E d^{3}}$"
      ],
      "text/plain": [
       "Eq(e, -6*q_0*x/(5*E*d) + q_0*x**3/(E*d**3))"
      ]
     },
     "execution_count": 53,
     "metadata": {},
     "output_type": "execute_result"
    }
   ],
   "source": [
    "lhs = e\n",
    "rhs = 0 + eq12.lhs - m\n",
    "eq13 = sym.Eq(lhs,rhs)\n",
    "eq13"
   ]
  },
  {
   "cell_type": "markdown",
   "metadata": {},
   "source": [
    "Now we solve euation 9, equation 10,equation 12, equation 13 to find H, G, m, e"
   ]
  },
  {
   "cell_type": "code",
   "execution_count": 54,
   "metadata": {},
   "outputs": [
    {
     "data": {
      "text/latex": [
       "$\\displaystyle \\ H = \\frac{l q_{0} \\left(12 d^{2} l - 24 d^{2} x - 5 l^{3} + 20 x^{3}\\right)}{20 E d^{3}}$"
      ],
      "text/plain": [
       "<IPython.core.display.Math object>"
      ]
     },
     "metadata": {},
     "output_type": "display_data"
    },
    {
     "data": {
      "text/latex": [
       "$\\displaystyle \\ G = \\frac{l \\nu q_{0}}{E} - \\frac{l q_{0}}{5 E} + \\frac{l^{3} q_{0}}{E d^{2}}$"
      ],
      "text/plain": [
       "<IPython.core.display.Math object>"
      ]
     },
     "metadata": {},
     "output_type": "display_data"
    },
    {
     "data": {
      "text/latex": [
       "$\\displaystyle \\ m = \\frac{q_{0} x \\left(6 d^{2} - 5 x^{2}\\right)}{5 E d^{3}}$"
      ],
      "text/plain": [
       "<IPython.core.display.Math object>"
      ]
     },
     "metadata": {},
     "output_type": "display_data"
    },
    {
     "data": {
      "text/latex": [
       "$\\displaystyle \\ e = \\frac{q_{0} x \\left(- 6 d^{2} + 5 x^{2}\\right)}{5 E d^{3}}$"
      ],
      "text/plain": [
       "<IPython.core.display.Math object>"
      ]
     },
     "metadata": {},
     "output_type": "display_data"
    }
   ],
   "source": [
    "soln, = sym.linsolve([eq9,eq10,eq12,eq13],[H,G,m,e])\n",
    "\n",
    "Hsoln = soln[0]\n",
    "Gsoln = soln[1]\n",
    "msoln = soln[2]\n",
    "esoln = soln[3]\n",
    "\n",
    "display(Math(r'\\ H = {}'.format(sym.latex(Hsoln))))\n",
    "display(Math(r'\\ G = {}'.format(sym.latex(Gsoln))))\n",
    "display(Math(r'\\ m = {}'.format(sym.latex(msoln))))\n",
    "display(Math(r'\\ e = {}'.format(sym.latex(esoln))))"
   ]
  },
  {
   "cell_type": "markdown",
   "metadata": {},
   "source": [
    "<font color='green'>Substitute above values in U_semi and V_semi equation:</font>\n",
    " \n",
    "Then we get final expressions of U and V"
   ]
  },
  {
   "cell_type": "code",
   "execution_count": 55,
   "metadata": {},
   "outputs": [
    {
     "data": {
      "text/latex": [
       "$\\displaystyle u{\\left(x,y \\right)} = - \\frac{l \\nu q_{0}}{E} + \\frac{l q_{0}}{5 E} + \\frac{\\nu q_{0} x}{E} - \\frac{q_{0} x}{5 E} - \\frac{6 q_{0} x y}{5 E d} - \\frac{l^{3} q_{0}}{E d^{2}} - \\frac{3 \\nu q_{0} x y^{2}}{E d^{2}} + \\frac{q_{0} x^{3}}{E d^{2}} - \\frac{6 q_{0} x y^{2}}{E d^{2}} - \\frac{2 \\nu q_{0} x y^{3}}{E d^{3}} + \\frac{q_{0} x^{3} y}{E d^{3}} - \\frac{4 q_{0} x y^{3}}{E d^{3}}$"
      ],
      "text/plain": [
       "Eq(u(x, y), -l*nu*q_0/E + l*q_0/(5*E) + nu*q_0*x/E - q_0*x/(5*E) - 6*q_0*x*y/(5*E*d) - l**3*q_0/(E*d**2) - 3*nu*q_0*x*y**2/(E*d**2) + q_0*x**3/(E*d**2) - 6*q_0*x*y**2/(E*d**2) - 2*nu*q_0*x*y**3/(E*d**3) + q_0*x**3*y/(E*d**3) - 4*q_0*x*y**3/(E*d**3))"
      ]
     },
     "metadata": {},
     "output_type": "display_data"
    }
   ],
   "source": [
    "U_final = U_semi.subs([(H,Hsoln),(G,Gsoln),(e,esoln)]).expand()\n",
    "\n",
    "display(U_final)"
   ]
  },
  {
   "cell_type": "code",
   "execution_count": 56,
   "metadata": {},
   "outputs": [
    {
     "data": {
      "text/latex": [
       "$\\displaystyle v{\\left(x,y \\right)} = \\frac{\\nu q_{0} y}{5 E} - \\frac{q_{0} y}{E} + \\frac{3 l^{2} q_{0}}{5 E d} - \\frac{6 l q_{0} x}{5 E d} + \\frac{6 \\nu q_{0} y^{2}}{5 E d} + \\frac{3 q_{0} x^{2}}{5 E d} - \\frac{3 \\nu q_{0} x^{2} y}{E d^{2}} + \\frac{2 \\nu q_{0} y^{3}}{E d^{2}} + \\frac{q_{0} y^{3}}{E d^{2}} - \\frac{l^{4} q_{0}}{4 E d^{3}} + \\frac{l q_{0} x^{3}}{E d^{3}} - \\frac{3 \\nu q_{0} x^{2} y^{2}}{E d^{3}} + \\frac{\\nu q_{0} y^{4}}{E d^{3}} - \\frac{3 q_{0} x^{4}}{4 E d^{3}} + \\frac{q_{0} y^{4}}{2 E d^{3}}$"
      ],
      "text/plain": [
       "Eq(v(x, y), nu*q_0*y/(5*E) - q_0*y/E + 3*l**2*q_0/(5*E*d) - 6*l*q_0*x/(5*E*d) + 6*nu*q_0*y**2/(5*E*d) + 3*q_0*x**2/(5*E*d) - 3*nu*q_0*x**2*y/(E*d**2) + 2*nu*q_0*y**3/(E*d**2) + q_0*y**3/(E*d**2) - l**4*q_0/(4*E*d**3) + l*q_0*x**3/(E*d**3) - 3*nu*q_0*x**2*y**2/(E*d**3) + nu*q_0*y**4/(E*d**3) - 3*q_0*x**4/(4*E*d**3) + q_0*y**4/(2*E*d**3))"
      ]
     },
     "metadata": {},
     "output_type": "display_data"
    }
   ],
   "source": [
    "V_final = V_semi.subs([(H,Hsoln),(G,Gsoln),(m,msoln)]).expand()\n",
    "\n",
    "display(V_final)"
   ]
  },
  {
   "cell_type": "markdown",
   "metadata": {},
   "source": [
    "<font color='blue'> Above Shown expressions of U and V are final. We can verify result by substituting numerical value of load, length, depth but it should be of unit width."
   ]
  },
  {
   "cell_type": "code",
   "execution_count": null,
   "metadata": {},
   "outputs": [],
   "source": []
  }
 ],
 "metadata": {
  "kernelspec": {
   "display_name": "Python 3",
   "language": "python",
   "name": "python3"
  },
  "language_info": {
   "codemirror_mode": {
    "name": "ipython",
    "version": 3
   },
   "file_extension": ".py",
   "mimetype": "text/x-python",
   "name": "python",
   "nbconvert_exporter": "python",
   "pygments_lexer": "ipython3",
   "version": "3.8.5"
  }
 },
 "nbformat": 4,
 "nbformat_minor": 4
}
